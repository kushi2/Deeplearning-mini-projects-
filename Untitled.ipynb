{
 "cells": [
  {
   "cell_type": "code",
   "execution_count": 1,
   "metadata": {},
   "outputs": [
    {
     "ename": "SyntaxError",
     "evalue": "invalid syntax (<ipython-input-1-62a3cb39ed8d>, line 1)",
     "output_type": "error",
     "traceback": [
      "\u001b[1;36m  File \u001b[1;32m\"<ipython-input-1-62a3cb39ed8d>\"\u001b[1;36m, line \u001b[1;32m1\u001b[0m\n\u001b[1;33m    This Jupyter Notebook Contains\u001b[0m\n\u001b[1;37m               ^\u001b[0m\n\u001b[1;31mSyntaxError\u001b[0m\u001b[1;31m:\u001b[0m invalid syntax\n"
     ]
    }
   ],
   "source": [
    "# This Jupyter Notebook Contains \n",
    "# 1. Loading the data \n",
    "# 2. Pre processsing \n",
    "# 3. ANN using Keras"
   ]
  },
  {
   "cell_type": "markdown",
   "metadata": {},
   "source": [
    "# Task 1.2: Repeat Task 1.1 with Keras."
   ]
  },
  {
   "cell_type": "code",
   "execution_count": 2,
   "metadata": {},
   "outputs": [],
   "source": [
    "# To load Data Set "
   ]
  },
  {
   "cell_type": "code",
   "execution_count": 1,
   "metadata": {},
   "outputs": [],
   "source": [
    "\n",
    "from zipfile import ZipFile\n",
    "import numpy as np\n",
    "import matplotlib.pyplot as plt"
   ]
  },
  {
   "cell_type": "code",
   "execution_count": 2,
   "metadata": {},
   "outputs": [],
   "source": [
    "class LoadDataModule(object):\n",
    "    def __init__(self):\n",
    "        self.DIR = './'\n",
    "        pass\n",
    "    \n",
    "    # Returns images and labels corresponding for training and testing. Default mode is train. \n",
    "    # For retrieving test data pass mode as 'test' in function call.\n",
    "    def load(self, mode = 'train'):\n",
    "        label_filename = mode + '_labels'\n",
    "        image_filename = mode + '_images'\n",
    "        label_zip = self.DIR + label_filename + '.zip'\n",
    "        image_zip = self.DIR + image_filename + '.zip'\n",
    "        with ZipFile(label_zip, 'r') as lblzip:\n",
    "            labels = np.frombuffer(lblzip.read(label_filename), dtype=np.uint8, offset=8)\n",
    "        with ZipFile(image_zip, 'r') as imgzip:\n",
    "            images = np.frombuffer(imgzip.read(image_filename), dtype=np.uint8, offset=16).reshape(len(labels), 784)\n",
    "        return images, labels\n"
   ]
  },
  {
   "cell_type": "code",
   "execution_count": 3,
   "metadata": {},
   "outputs": [],
   "source": [
    "ld = LoadDataModule()"
   ]
  },
  {
   "cell_type": "code",
   "execution_count": 4,
   "metadata": {},
   "outputs": [],
   "source": [
    "images_train,labels_train = ld.load('train')"
   ]
  },
  {
   "cell_type": "code",
   "execution_count": 5,
   "metadata": {
    "scrolled": true
   },
   "outputs": [
    {
     "data": {
      "text/plain": [
       "array([9, 0, 0, ..., 3, 0, 5], dtype=uint8)"
      ]
     },
     "execution_count": 5,
     "metadata": {},
     "output_type": "execute_result"
    }
   ],
   "source": [
    "labels_train"
   ]
  },
  {
   "cell_type": "code",
   "execution_count": 6,
   "metadata": {},
   "outputs": [
    {
     "data": {
      "text/plain": [
       "array([[0, 0, 0, ..., 0, 0, 0],\n",
       "       [0, 0, 0, ..., 0, 0, 0],\n",
       "       [0, 0, 0, ..., 0, 0, 0],\n",
       "       ...,\n",
       "       [0, 0, 0, ..., 0, 0, 0],\n",
       "       [0, 0, 0, ..., 0, 0, 0],\n",
       "       [0, 0, 0, ..., 0, 0, 0]], dtype=uint8)"
      ]
     },
     "execution_count": 6,
     "metadata": {},
     "output_type": "execute_result"
    }
   ],
   "source": [
    "images_train"
   ]
  },
  {
   "cell_type": "code",
   "execution_count": 7,
   "metadata": {},
   "outputs": [
    {
     "data": {
      "text/plain": [
       "47040000"
      ]
     },
     "execution_count": 7,
     "metadata": {},
     "output_type": "execute_result"
    }
   ],
   "source": [
    "images_train.size"
   ]
  },
  {
   "cell_type": "code",
   "execution_count": 8,
   "metadata": {},
   "outputs": [
    {
     "data": {
      "text/plain": [
       "60000"
      ]
     },
     "execution_count": 8,
     "metadata": {},
     "output_type": "execute_result"
    }
   ],
   "source": [
    "labels_train.size"
   ]
  },
  {
   "cell_type": "code",
   "execution_count": 9,
   "metadata": {},
   "outputs": [],
   "source": [
    "images_test,labels_test = ld.load('test')"
   ]
  },
  {
   "cell_type": "code",
   "execution_count": 10,
   "metadata": {},
   "outputs": [
    {
     "data": {
      "text/plain": [
       "array([[0, 0, 0, ..., 0, 0, 0],\n",
       "       [0, 0, 0, ..., 0, 0, 0],\n",
       "       [0, 0, 0, ..., 0, 0, 0],\n",
       "       ...,\n",
       "       [0, 0, 0, ..., 0, 0, 0],\n",
       "       [0, 0, 0, ..., 0, 0, 0],\n",
       "       [0, 0, 0, ..., 0, 0, 0]], dtype=uint8)"
      ]
     },
     "execution_count": 10,
     "metadata": {},
     "output_type": "execute_result"
    }
   ],
   "source": [
    "images_test"
   ]
  },
  {
   "cell_type": "code",
   "execution_count": 11,
   "metadata": {},
   "outputs": [
    {
     "data": {
      "text/plain": [
       "(10000,)"
      ]
     },
     "execution_count": 11,
     "metadata": {},
     "output_type": "execute_result"
    }
   ],
   "source": [
    "labels_test.shape"
   ]
  },
  {
   "cell_type": "code",
   "execution_count": 16,
   "metadata": {},
   "outputs": [],
   "source": [
    "# Preprocessing "
   ]
  },
  {
   "cell_type": "code",
   "execution_count": 12,
   "metadata": {},
   "outputs": [
    {
     "data": {
      "text/plain": [
       "array([False, False, False, ..., False, False, False])"
      ]
     },
     "execution_count": 12,
     "metadata": {},
     "output_type": "execute_result"
    }
   ],
   "source": [
    "np.isnan(labels_train)"
   ]
  },
  {
   "cell_type": "code",
   "execution_count": 13,
   "metadata": {},
   "outputs": [
    {
     "data": {
      "text/plain": [
       "array([[False, False, False, ..., False, False, False],\n",
       "       [False, False, False, ..., False, False, False],\n",
       "       [False, False, False, ..., False, False, False],\n",
       "       ...,\n",
       "       [False, False, False, ..., False, False, False],\n",
       "       [False, False, False, ..., False, False, False],\n",
       "       [False, False, False, ..., False, False, False]])"
      ]
     },
     "execution_count": 13,
     "metadata": {},
     "output_type": "execute_result"
    }
   ],
   "source": [
    "np.isnan(images_train)"
   ]
  },
  {
   "cell_type": "code",
   "execution_count": 14,
   "metadata": {},
   "outputs": [
    {
     "data": {
      "text/plain": [
       "array([False, False, False, ..., False, False, False])"
      ]
     },
     "execution_count": 14,
     "metadata": {},
     "output_type": "execute_result"
    }
   ],
   "source": [
    "np.isnan(labels_test)"
   ]
  },
  {
   "cell_type": "code",
   "execution_count": 15,
   "metadata": {},
   "outputs": [
    {
     "data": {
      "text/plain": [
       "array([[False, False, False, ..., False, False, False],\n",
       "       [False, False, False, ..., False, False, False],\n",
       "       [False, False, False, ..., False, False, False],\n",
       "       ...,\n",
       "       [False, False, False, ..., False, False, False],\n",
       "       [False, False, False, ..., False, False, False],\n",
       "       [False, False, False, ..., False, False, False]])"
      ]
     },
     "execution_count": 15,
     "metadata": {},
     "output_type": "execute_result"
    }
   ],
   "source": [
    "np.isnan(images_test)"
   ]
  },
  {
   "cell_type": "code",
   "execution_count": 16,
   "metadata": {},
   "outputs": [
    {
     "name": "stdout",
     "output_type": "stream",
     "text": [
      "[[0. 0. 0. ... 0. 0. 0.]\n",
      " [0. 0. 0. ... 0. 0. 0.]\n",
      " [0. 0. 0. ... 0. 0. 0.]\n",
      " ...\n",
      " [0. 0. 0. ... 0. 0. 0.]\n",
      " [0. 0. 0. ... 0. 0. 0.]\n",
      " [0. 0. 0. ... 0. 0. 0.]]\n",
      "[[0. 0. 0. ... 0. 0. 0.]\n",
      " [0. 0. 0. ... 0. 0. 0.]\n",
      " [0. 0. 0. ... 0. 0. 0.]\n",
      " ...\n",
      " [0. 0. 0. ... 0. 0. 0.]\n",
      " [0. 0. 0. ... 0. 0. 0.]\n",
      " [0. 0. 0. ... 0. 0. 0.]]\n"
     ]
    }
   ],
   "source": [
    "from sklearn.preprocessing import MinMaxScaler\n",
    "sc = MinMaxScaler()\n",
    "x_images_train = sc.fit_transform(images_train)\n",
    "print(x_images_train)\n",
    "x_images_test = sc.fit_transform(images_test)\n",
    "print(x_images_test)"
   ]
  },
  {
   "cell_type": "code",
   "execution_count": 1,
   "metadata": {
    "scrolled": true
   },
   "outputs": [
    {
     "name": "stderr",
     "output_type": "stream",
     "text": [
      "Using TensorFlow backend.\n"
     ]
    },
    {
     "name": "stdout",
     "output_type": "stream",
     "text": [
      "WARNING:tensorflow:From C:\\Users\\kusha\\Anaconda3\\lib\\site-packages\\keras\\backend\\tensorflow_backend.py:66: The name tf.get_default_graph is deprecated. Please use tf.compat.v1.get_default_graph instead.\n",
      "\n",
      "WARNING:tensorflow:From C:\\Users\\kusha\\Anaconda3\\lib\\site-packages\\keras\\backend\\tensorflow_backend.py:541: The name tf.placeholder is deprecated. Please use tf.compat.v1.placeholder instead.\n",
      "\n",
      "WARNING:tensorflow:From C:\\Users\\kusha\\Anaconda3\\lib\\site-packages\\keras\\backend\\tensorflow_backend.py:4432: The name tf.random_uniform is deprecated. Please use tf.random.uniform instead.\n",
      "\n",
      "WARNING:tensorflow:From C:\\Users\\kusha\\Anaconda3\\lib\\site-packages\\keras\\optimizers.py:793: The name tf.train.Optimizer is deprecated. Please use tf.compat.v1.train.Optimizer instead.\n",
      "\n",
      "WARNING:tensorflow:From C:\\Users\\kusha\\Anaconda3\\lib\\site-packages\\keras\\backend\\tensorflow_backend.py:3576: The name tf.log is deprecated. Please use tf.math.log instead.\n",
      "\n"
     ]
    }
   ],
   "source": [
    "import tensorflow.keras\n",
    "\n",
    "from keras.models import Sequential\n",
    "from keras.layers.core import Dense, Dropout\n",
    "#tensorflow.keras.optimizers.Adam(lr=0.001)\n",
    "model = Sequential()\n",
    "model.add(Dense(784, input_dim=784, activation='tanh'))\n",
    "\n",
    "model.add(Dense(512, activation='sigmoid'))\n",
    "model.add(Dense(100, activation='relu'))\n",
    "model.add(Dense(10, activation='softmax'))\n",
    "\n",
    "model.compile(loss='categorical_crossentropy',\n",
    "              optimizer='rmsprop',\n",
    "              metrics=['accuracy'])\n"
   ]
  },
  {
   "cell_type": "code",
   "execution_count": 18,
   "metadata": {},
   "outputs": [],
   "source": [
    "one_hot_labels_train = tensorflow.keras.utils.to_categorical(labels_train, num_classes=10)\n",
    "one_hot_labels_test = tensorflow.keras.utils.to_categorical(labels_test, num_classes=10)"
   ]
  },
  {
   "cell_type": "code",
   "execution_count": 19,
   "metadata": {},
   "outputs": [
    {
     "data": {
      "text/plain": [
       "array([[0., 0., 0., ..., 0., 0., 1.],\n",
       "       [1., 0., 0., ..., 0., 0., 0.],\n",
       "       [1., 0., 0., ..., 0., 0., 0.],\n",
       "       ...,\n",
       "       [0., 0., 0., ..., 0., 0., 0.],\n",
       "       [1., 0., 0., ..., 0., 0., 0.],\n",
       "       [0., 0., 0., ..., 0., 0., 0.]], dtype=float32)"
      ]
     },
     "execution_count": 19,
     "metadata": {},
     "output_type": "execute_result"
    }
   ],
   "source": [
    "one_hot_labels_train"
   ]
  },
  {
   "cell_type": "code",
   "execution_count": 20,
   "metadata": {},
   "outputs": [
    {
     "data": {
      "text/plain": [
       "array([9, 0, 0, ..., 3, 0, 5], dtype=uint8)"
      ]
     },
     "execution_count": 20,
     "metadata": {},
     "output_type": "execute_result"
    }
   ],
   "source": [
    "labels_train"
   ]
  },
  {
   "cell_type": "code",
   "execution_count": 21,
   "metadata": {},
   "outputs": [
    {
     "data": {
      "text/plain": [
       "(60000, 10)"
      ]
     },
     "execution_count": 21,
     "metadata": {},
     "output_type": "execute_result"
    }
   ],
   "source": [
    "one_hot_labels_train.shape"
   ]
  },
  {
   "cell_type": "code",
   "execution_count": 22,
   "metadata": {},
   "outputs": [
    {
     "data": {
      "text/plain": [
       "(60000,)"
      ]
     },
     "execution_count": 22,
     "metadata": {},
     "output_type": "execute_result"
    }
   ],
   "source": [
    "labels_train.shape"
   ]
  },
  {
   "cell_type": "code",
   "execution_count": 23,
   "metadata": {},
   "outputs": [],
   "source": [
    "import time\n",
    "from keras.callbacks import Callback , Reducelronplateau\n",
    "class TimeHistory(Callback):\n",
    "    def on_train_begin(self, logs={}):\n",
    "        self.times = []\n",
    "\n",
    "    def on_epoch_begin(self, batch, logs={}):\n",
    "        self.epoch_time_start = time.time()\n",
    "\n",
    "    def on_epoch_end(self, batch, logs={}):\n",
    "        self.times.append(time.time() - self.epoch_time_start)"
   ]
  },
  {
   "cell_type": "code",
   "execution_count": 24,
   "metadata": {},
   "outputs": [],
   "source": [
    "cbt = TimeHistory()"
   ]
  },
  {
   "cell_type": "code",
   "execution_count": 89,
   "metadata": {},
   "outputs": [
    {
     "name": "stdout",
     "output_type": "stream",
     "text": [
      "Epoch 1/50\n",
      "60000/60000 [==============================] - 17s 276us/step - loss: 0.1916 - acc: 0.9389\n",
      "Epoch 2/50\n",
      "60000/60000 [==============================] - 11s 177us/step - loss: 0.1051 - acc: 0.9618\n",
      "Epoch 3/50\n",
      "60000/60000 [==============================] - 11s 178us/step - loss: 0.0847 - acc: 0.9676\n",
      "Epoch 4/50\n",
      "60000/60000 [==============================] - 11s 188us/step - loss: 0.0758 - acc: 0.9719\n",
      "Epoch 5/50\n",
      "60000/60000 [==============================] - 11s 182us/step - loss: 0.0655 - acc: 0.9758\n",
      "Epoch 6/50\n",
      "60000/60000 [==============================] - 15s 245us/step - loss: 0.0632 - acc: 0.9761\n",
      "Epoch 7/50\n",
      "60000/60000 [==============================] - 16s 262us/step - loss: 0.0593 - acc: 0.9781\n",
      "Epoch 8/50\n",
      "60000/60000 [==============================] - 13s 211us/step - loss: 0.0585 - acc: 0.9789\n",
      "Epoch 9/50\n",
      "60000/60000 [==============================] - 12s 205us/step - loss: 0.0552 - acc: 0.9801\n",
      "Epoch 10/50\n",
      "60000/60000 [==============================] - 15s 246us/step - loss: 0.0522 - acc: 0.98111s - loss: 0.0521\n",
      "Epoch 11/50\n",
      "60000/60000 [==============================] - 15s 250us/step - loss: 0.0527 - acc: 0.9804\n",
      "Epoch 12/50\n",
      "44200/60000 [=====================>........] - ETA: 3s - loss: 0.0499 - acc: 0.9815"
     ]
    },
    {
     "ename": "KeyboardInterrupt",
     "evalue": "",
     "output_type": "error",
     "traceback": [
      "\u001b[1;31m---------------------------------------------------------------------------\u001b[0m",
      "\u001b[1;31mKeyboardInterrupt\u001b[0m                         Traceback (most recent call last)",
      "\u001b[1;32m<ipython-input-89-fc048c1feba2>\u001b[0m in \u001b[0;36m<module>\u001b[1;34m\u001b[0m\n\u001b[1;32m----> 1\u001b[1;33m \u001b[0mhistory1\u001b[0m \u001b[1;33m=\u001b[0m \u001b[0mmodel\u001b[0m\u001b[1;33m.\u001b[0m\u001b[0mfit\u001b[0m\u001b[1;33m(\u001b[0m\u001b[0mx_images_train\u001b[0m\u001b[1;33m,\u001b[0m\u001b[0mone_hot_labels_train\u001b[0m\u001b[1;33m,\u001b[0m \u001b[0mepochs\u001b[0m\u001b[1;33m=\u001b[0m\u001b[1;36m50\u001b[0m\u001b[1;33m,\u001b[0m \u001b[0mbatch_size\u001b[0m\u001b[1;33m=\u001b[0m\u001b[1;36m200\u001b[0m \u001b[1;33m,\u001b[0m \u001b[0mcallbacks\u001b[0m\u001b[1;33m=\u001b[0m\u001b[1;33m[\u001b[0m\u001b[0mcbt\u001b[0m\u001b[1;33m]\u001b[0m\u001b[1;33m)\u001b[0m\u001b[1;33m\u001b[0m\u001b[1;33m\u001b[0m\u001b[0m\n\u001b[0m",
      "\u001b[1;32m~\\Anaconda3\\lib\\site-packages\\keras\\engine\\training.py\u001b[0m in \u001b[0;36mfit\u001b[1;34m(self, x, y, batch_size, epochs, verbose, callbacks, validation_split, validation_data, shuffle, class_weight, sample_weight, initial_epoch, steps_per_epoch, validation_steps, validation_freq, max_queue_size, workers, use_multiprocessing, **kwargs)\u001b[0m\n\u001b[0;32m   1176\u001b[0m                                         \u001b[0msteps_per_epoch\u001b[0m\u001b[1;33m=\u001b[0m\u001b[0msteps_per_epoch\u001b[0m\u001b[1;33m,\u001b[0m\u001b[1;33m\u001b[0m\u001b[1;33m\u001b[0m\u001b[0m\n\u001b[0;32m   1177\u001b[0m                                         \u001b[0mvalidation_steps\u001b[0m\u001b[1;33m=\u001b[0m\u001b[0mvalidation_steps\u001b[0m\u001b[1;33m,\u001b[0m\u001b[1;33m\u001b[0m\u001b[1;33m\u001b[0m\u001b[0m\n\u001b[1;32m-> 1178\u001b[1;33m                                         validation_freq=validation_freq)\n\u001b[0m\u001b[0;32m   1179\u001b[0m \u001b[1;33m\u001b[0m\u001b[0m\n\u001b[0;32m   1180\u001b[0m     def evaluate(self,\n",
      "\u001b[1;32m~\\Anaconda3\\lib\\site-packages\\keras\\engine\\training_arrays.py\u001b[0m in \u001b[0;36mfit_loop\u001b[1;34m(model, fit_function, fit_inputs, out_labels, batch_size, epochs, verbose, callbacks, val_function, val_inputs, shuffle, callback_metrics, initial_epoch, steps_per_epoch, validation_steps, validation_freq)\u001b[0m\n\u001b[0;32m    202\u001b[0m                     \u001b[0mins_batch\u001b[0m\u001b[1;33m[\u001b[0m\u001b[0mi\u001b[0m\u001b[1;33m]\u001b[0m \u001b[1;33m=\u001b[0m \u001b[0mins_batch\u001b[0m\u001b[1;33m[\u001b[0m\u001b[0mi\u001b[0m\u001b[1;33m]\u001b[0m\u001b[1;33m.\u001b[0m\u001b[0mtoarray\u001b[0m\u001b[1;33m(\u001b[0m\u001b[1;33m)\u001b[0m\u001b[1;33m\u001b[0m\u001b[1;33m\u001b[0m\u001b[0m\n\u001b[0;32m    203\u001b[0m \u001b[1;33m\u001b[0m\u001b[0m\n\u001b[1;32m--> 204\u001b[1;33m                 \u001b[0mouts\u001b[0m \u001b[1;33m=\u001b[0m \u001b[0mfit_function\u001b[0m\u001b[1;33m(\u001b[0m\u001b[0mins_batch\u001b[0m\u001b[1;33m)\u001b[0m\u001b[1;33m\u001b[0m\u001b[1;33m\u001b[0m\u001b[0m\n\u001b[0m\u001b[0;32m    205\u001b[0m                 \u001b[0mouts\u001b[0m \u001b[1;33m=\u001b[0m \u001b[0mto_list\u001b[0m\u001b[1;33m(\u001b[0m\u001b[0mouts\u001b[0m\u001b[1;33m)\u001b[0m\u001b[1;33m\u001b[0m\u001b[1;33m\u001b[0m\u001b[0m\n\u001b[0;32m    206\u001b[0m                 \u001b[1;32mfor\u001b[0m \u001b[0ml\u001b[0m\u001b[1;33m,\u001b[0m \u001b[0mo\u001b[0m \u001b[1;32min\u001b[0m \u001b[0mzip\u001b[0m\u001b[1;33m(\u001b[0m\u001b[0mout_labels\u001b[0m\u001b[1;33m,\u001b[0m \u001b[0mouts\u001b[0m\u001b[1;33m)\u001b[0m\u001b[1;33m:\u001b[0m\u001b[1;33m\u001b[0m\u001b[1;33m\u001b[0m\u001b[0m\n",
      "\u001b[1;32m~\\Anaconda3\\lib\\site-packages\\keras\\backend\\tensorflow_backend.py\u001b[0m in \u001b[0;36m__call__\u001b[1;34m(self, inputs)\u001b[0m\n\u001b[0;32m   2977\u001b[0m                     \u001b[1;32mreturn\u001b[0m \u001b[0mself\u001b[0m\u001b[1;33m.\u001b[0m\u001b[0m_legacy_call\u001b[0m\u001b[1;33m(\u001b[0m\u001b[0minputs\u001b[0m\u001b[1;33m)\u001b[0m\u001b[1;33m\u001b[0m\u001b[1;33m\u001b[0m\u001b[0m\n\u001b[0;32m   2978\u001b[0m \u001b[1;33m\u001b[0m\u001b[0m\n\u001b[1;32m-> 2979\u001b[1;33m             \u001b[1;32mreturn\u001b[0m \u001b[0mself\u001b[0m\u001b[1;33m.\u001b[0m\u001b[0m_call\u001b[0m\u001b[1;33m(\u001b[0m\u001b[0minputs\u001b[0m\u001b[1;33m)\u001b[0m\u001b[1;33m\u001b[0m\u001b[1;33m\u001b[0m\u001b[0m\n\u001b[0m\u001b[0;32m   2980\u001b[0m         \u001b[1;32melse\u001b[0m\u001b[1;33m:\u001b[0m\u001b[1;33m\u001b[0m\u001b[1;33m\u001b[0m\u001b[0m\n\u001b[0;32m   2981\u001b[0m             \u001b[1;32mif\u001b[0m \u001b[0mpy_any\u001b[0m\u001b[1;33m(\u001b[0m\u001b[0mis_tensor\u001b[0m\u001b[1;33m(\u001b[0m\u001b[0mx\u001b[0m\u001b[1;33m)\u001b[0m \u001b[1;32mfor\u001b[0m \u001b[0mx\u001b[0m \u001b[1;32min\u001b[0m \u001b[0minputs\u001b[0m\u001b[1;33m)\u001b[0m\u001b[1;33m:\u001b[0m\u001b[1;33m\u001b[0m\u001b[1;33m\u001b[0m\u001b[0m\n",
      "\u001b[1;32m~\\Anaconda3\\lib\\site-packages\\keras\\backend\\tensorflow_backend.py\u001b[0m in \u001b[0;36m_call\u001b[1;34m(self, inputs)\u001b[0m\n\u001b[0;32m   2935\u001b[0m             \u001b[0mfetched\u001b[0m \u001b[1;33m=\u001b[0m \u001b[0mself\u001b[0m\u001b[1;33m.\u001b[0m\u001b[0m_callable_fn\u001b[0m\u001b[1;33m(\u001b[0m\u001b[1;33m*\u001b[0m\u001b[0marray_vals\u001b[0m\u001b[1;33m,\u001b[0m \u001b[0mrun_metadata\u001b[0m\u001b[1;33m=\u001b[0m\u001b[0mself\u001b[0m\u001b[1;33m.\u001b[0m\u001b[0mrun_metadata\u001b[0m\u001b[1;33m)\u001b[0m\u001b[1;33m\u001b[0m\u001b[1;33m\u001b[0m\u001b[0m\n\u001b[0;32m   2936\u001b[0m         \u001b[1;32melse\u001b[0m\u001b[1;33m:\u001b[0m\u001b[1;33m\u001b[0m\u001b[1;33m\u001b[0m\u001b[0m\n\u001b[1;32m-> 2937\u001b[1;33m             \u001b[0mfetched\u001b[0m \u001b[1;33m=\u001b[0m \u001b[0mself\u001b[0m\u001b[1;33m.\u001b[0m\u001b[0m_callable_fn\u001b[0m\u001b[1;33m(\u001b[0m\u001b[1;33m*\u001b[0m\u001b[0marray_vals\u001b[0m\u001b[1;33m)\u001b[0m\u001b[1;33m\u001b[0m\u001b[1;33m\u001b[0m\u001b[0m\n\u001b[0m\u001b[0;32m   2938\u001b[0m         \u001b[1;32mreturn\u001b[0m \u001b[0mfetched\u001b[0m\u001b[1;33m[\u001b[0m\u001b[1;33m:\u001b[0m\u001b[0mlen\u001b[0m\u001b[1;33m(\u001b[0m\u001b[0mself\u001b[0m\u001b[1;33m.\u001b[0m\u001b[0moutputs\u001b[0m\u001b[1;33m)\u001b[0m\u001b[1;33m]\u001b[0m\u001b[1;33m\u001b[0m\u001b[1;33m\u001b[0m\u001b[0m\n\u001b[0;32m   2939\u001b[0m \u001b[1;33m\u001b[0m\u001b[0m\n",
      "\u001b[1;32m~\\Anaconda3\\lib\\site-packages\\tensorflow\\python\\client\\session.py\u001b[0m in \u001b[0;36m__call__\u001b[1;34m(self, *args, **kwargs)\u001b[0m\n\u001b[0;32m   1456\u001b[0m         ret = tf_session.TF_SessionRunCallable(self._session._session,\n\u001b[0;32m   1457\u001b[0m                                                \u001b[0mself\u001b[0m\u001b[1;33m.\u001b[0m\u001b[0m_handle\u001b[0m\u001b[1;33m,\u001b[0m \u001b[0margs\u001b[0m\u001b[1;33m,\u001b[0m\u001b[1;33m\u001b[0m\u001b[1;33m\u001b[0m\u001b[0m\n\u001b[1;32m-> 1458\u001b[1;33m                                                run_metadata_ptr)\n\u001b[0m\u001b[0;32m   1459\u001b[0m         \u001b[1;32mif\u001b[0m \u001b[0mrun_metadata\u001b[0m\u001b[1;33m:\u001b[0m\u001b[1;33m\u001b[0m\u001b[1;33m\u001b[0m\u001b[0m\n\u001b[0;32m   1460\u001b[0m           \u001b[0mproto_data\u001b[0m \u001b[1;33m=\u001b[0m \u001b[0mtf_session\u001b[0m\u001b[1;33m.\u001b[0m\u001b[0mTF_GetBuffer\u001b[0m\u001b[1;33m(\u001b[0m\u001b[0mrun_metadata_ptr\u001b[0m\u001b[1;33m)\u001b[0m\u001b[1;33m\u001b[0m\u001b[1;33m\u001b[0m\u001b[0m\n",
      "\u001b[1;31mKeyboardInterrupt\u001b[0m: "
     ]
    }
   ],
   "source": [
    "history1 = model.fit(x_images_train,one_hot_labels_train, epochs=50, batch_size=200 , callbacks=[cbt])\n"
   ]
  },
  {
   "cell_type": "code",
   "execution_count": 26,
   "metadata": {},
   "outputs": [
    {
     "name": "stdout",
     "output_type": "stream",
     "text": [
      "[0.6328247221310933, 0.4273256941139698, 0.3768078674376011, 0.34304638266563414, 0.31768476833899817, 0.2989167309304078, 0.28504075462619466, 0.2697134215136369, 0.257573418195049, 0.2453149933864673, 0.2340327260394891, 0.22352948504189651, 0.21433895245194434, 0.20466333508491516, 0.19461153745651244, 0.18654749261836212, 0.17885307140648365, 0.17177957326173782, 0.16351103263596695, 0.15653564766049385, 0.1494740603864193, 0.14386158511042596, 0.13719014522929987, 0.13037784171601136, 0.12358762835462889, 0.11857239230225483, 0.11303474884480239, 0.10776447421560685, 0.10435063021878402, 0.09941022378702959, 0.09511751769731443, 0.09181916481504837, 0.0862619511783123, 0.08415428909783562, 0.08156353107343117, 0.07954786775633693, 0.07862470537734528, 0.07509887604663769, 0.07020930174117287, 0.06827133565209806, 0.06479595168183247, 0.06479420067742467, 0.06200458216791352, 0.06216867215620975, 0.0587589512920628, 0.05719016585809489, 0.05513432808841268, 0.053133383678893246, 0.054333969661965964, 0.05285575737555822]\n"
     ]
    }
   ],
   "source": [
    "print(history1.history['loss'])"
   ]
  },
  {
   "cell_type": "code",
   "execution_count": 27,
   "metadata": {},
   "outputs": [
    {
     "data": {
      "text/plain": [
       "[13.379711627960205,\n",
       " 12.572020769119263,\n",
       " 12.758965969085693,\n",
       " 12.592642068862915,\n",
       " 12.63571572303772,\n",
       " 12.276198387145996,\n",
       " 12.172021865844727,\n",
       " 12.685541868209839,\n",
       " 12.500355958938599,\n",
       " 12.38666296005249,\n",
       " 12.485503673553467,\n",
       " 13.262614250183105,\n",
       " 16.29837656021118,\n",
       " 18.13180160522461,\n",
       " 18.102968215942383,\n",
       " 15.286874055862427,\n",
       " 14.907578945159912,\n",
       " 15.073979616165161,\n",
       " 14.988920211791992,\n",
       " 16.70999026298523,\n",
       " 17.389875173568726,\n",
       " 15.484564542770386,\n",
       " 13.145564317703247,\n",
       " 12.942568302154541,\n",
       " 12.88725471496582,\n",
       " 12.833214044570923,\n",
       " 13.28850793838501,\n",
       " 14.053343296051025,\n",
       " 12.934523105621338,\n",
       " 12.713783502578735,\n",
       " 14.107887983322144,\n",
       " 13.432085037231445,\n",
       " 13.328221321105957,\n",
       " 13.234047889709473,\n",
       " 14.160552024841309,\n",
       " 13.320136785507202,\n",
       " 13.736457586288452,\n",
       " 13.39203953742981,\n",
       " 14.18082594871521,\n",
       " 12.563549995422363,\n",
       " 14.028672933578491,\n",
       " 13.179216384887695,\n",
       " 12.184345722198486,\n",
       " 12.361019611358643,\n",
       " 12.439239740371704,\n",
       " 12.58330750465393,\n",
       " 13.690367698669434,\n",
       " 12.347790718078613,\n",
       " 12.427568197250366,\n",
       " 12.370821714401245]"
      ]
     },
     "execution_count": 27,
     "metadata": {},
     "output_type": "execute_result"
    }
   ],
   "source": [
    "cbt.times"
   ]
  },
  {
   "cell_type": "code",
   "execution_count": 28,
   "metadata": {},
   "outputs": [
    {
     "data": {
      "image/png": "[encoded data removed]",
      "text/plain": [
       "<Figure size 432x288 with 1 Axes>"
      ]
     },
     "metadata": {
      "needs_background": "light"
     },
     "output_type": "display_data"
    }
   ],
   "source": [
    "import matplotlib.pyplot as plt\n",
    "\n",
    "plt.plot(history1.history['loss'])\n",
    "\n",
    "plt.title('Epochs vs Losses ')\n",
    "plt.ylabel('losses')\n",
    "plt.xlabel('Epoch')\n",
    "\n",
    "plt.show()"
   ]
  },
  {
   "cell_type": "code",
   "execution_count": 30,
   "metadata": {},
   "outputs": [
    {
     "data": {
      "image/png": "[encoded data removed]",
      "text/plain": [
       "<Figure size 432x288 with 1 Axes>"
      ]
     },
     "metadata": {
      "needs_background": "light"
     },
     "output_type": "display_data"
    }
   ],
   "source": [
    "plt.plot(history1.history['loss'])\n",
    "plt.plot(cbt.times)\n",
    "plt.title('Epochs and Time vs Losses ')\n",
    "plt.ylabel('losses and Time')\n",
    "plt.xlabel('Epoch')\n",
    "\n",
    "plt.show()"
   ]
  },
  {
   "cell_type": "code",
   "execution_count": 31,
   "metadata": {},
   "outputs": [
    {
     "data": {
      "text/plain": [
       "array([[2.09629629e-25, 8.68744619e-18, 1.48457970e-27, ...,\n",
       "        2.51777568e-08, 2.61712424e-19, 1.00000000e+00],\n",
       "       [1.00000000e+00, 1.59810847e-26, 2.28757493e-14, ...,\n",
       "        4.88046328e-36, 3.54861013e-22, 9.93698507e-32],\n",
       "       [9.99787867e-01, 6.71640825e-12, 3.27671540e-15, ...,\n",
       "        1.06304874e-20, 1.33499889e-15, 7.20311411e-19],\n",
       "       ...,\n",
       "       [1.23505676e-11, 9.19572341e-15, 1.61446789e-12, ...,\n",
       "        2.31331378e-21, 1.50823227e-15, 3.47122880e-19],\n",
       "       [1.00000000e+00, 2.10281513e-18, 2.75727861e-11, ...,\n",
       "        3.48663376e-28, 5.04052226e-19, 2.04379861e-36],\n",
       "       [2.11996255e-33, 0.00000000e+00, 5.98165034e-37, ...,\n",
       "        0.00000000e+00, 1.51213081e-32, 0.00000000e+00]], dtype=float32)"
      ]
     },
     "execution_count": 31,
     "metadata": {},
     "output_type": "execute_result"
    }
   ],
   "source": [
    "predictions_train = model.predict(x_images_train)\n",
    "predictions_train"
   ]
  },
  {
   "cell_type": "code",
   "execution_count": 30,
   "metadata": {},
   "outputs": [],
   "source": [
    "# max_train = predictions_train.max(axis=1)\n",
    "# max_train"
   ]
  },
  {
   "cell_type": "code",
   "execution_count": 31,
   "metadata": {},
   "outputs": [],
   "source": [
    "# size = len(predictions_train)\n",
    "# size"
   ]
  },
  {
   "cell_type": "code",
   "execution_count": 32,
   "metadata": {
    "scrolled": false
   },
   "outputs": [],
   "source": [
    "# for i in range(size):\n",
    "#     predictions_train[i,][predictions_train[i,] == max_train[i]] = 1\n",
    "#     predictions_train[i,][predictions_train[i,] != max_train[i]] = 0\n",
    "# predictions_train"
   ]
  },
  {
   "cell_type": "code",
   "execution_count": 32,
   "metadata": {},
   "outputs": [
    {
     "data": {
      "text/plain": [
       "array([9, 0, 0, ..., 3, 0, 5], dtype=int64)"
      ]
     },
     "execution_count": 32,
     "metadata": {},
     "output_type": "execute_result"
    }
   ],
   "source": [
    "max_train1 = np.argmax(predictions_train, axis=1)\n",
    "max_train1"
   ]
  },
  {
   "cell_type": "code",
   "execution_count": 33,
   "metadata": {},
   "outputs": [
    {
     "data": {
      "text/plain": [
       "array([[5786,    1,   10,    3,    5,    0,  195,    0,    0,    0],\n",
       "       [   3, 5985,    0,   11,    0,    0,    1,    0,    0,    0],\n",
       "       [   5,    1, 5738,    0,  217,    0,   39,    0,    0,    0],\n",
       "       [  28,    0,   12, 5815,   80,    0,   65,    0,    0,    0],\n",
       "       [   1,    0,   60,   12, 5850,    0,   77,    0,    0,    0],\n",
       "       [   0,    0,    0,    0,    0, 5998,    0,    2,    0,    0],\n",
       "       [  47,    0,   40,    3,   87,    0, 5823,    0,    0,    0],\n",
       "       [   0,    0,    0,    0,    0,    0,    0, 5965,    0,   35],\n",
       "       [   1,    0,    0,    1,    1,    0,    2,    0, 5995,    0],\n",
       "       [   0,    0,    0,    0,    0,    0,    0,   11,    0, 5989]],\n",
       "      dtype=int64)"
      ]
     },
     "execution_count": 33,
     "metadata": {},
     "output_type": "execute_result"
    }
   ],
   "source": [
    "from sklearn.metrics import confusion_matrix\n",
    "cm =confusion_matrix(labels_train, max_train1)\n",
    "cm\n",
    "# print(\"tn=\",tn_train)\n",
    "# print(\"fp=\",fp_train)\n",
    "# print(\"fn=\",fn_train)\n",
    "# print(\"tp=\",tp_train)"
   ]
  },
  {
   "cell_type": "code",
   "execution_count": 34,
   "metadata": {},
   "outputs": [
    {
     "name": "stdout",
     "output_type": "stream",
     "text": [
      "accuracy_train = 0.9824\n",
      "F1score_train = 0.982476499523544\n",
      "recal_train = 0.9824\n",
      "precision_train = 0.9827642242976657\n"
     ]
    }
   ],
   "source": [
    "from sklearn.metrics import accuracy_score \n",
    "from sklearn.metrics import precision_score\n",
    "from sklearn.metrics import recall_score\n",
    "from sklearn.metrics import f1_score\n",
    "accuracy_train = accuracy_score(labels_train,max_train1)\n",
    "f1score_train = f1_score(labels_train,max_train1,average='weighted')\n",
    "recall_train = recall_score(labels_train,max_train1,average='weighted')\n",
    "precision_train = precision_score(labels_train,max_train1,average='weighted')\n",
    "\n",
    "print(\"accuracy_train =\" , accuracy_train)\n",
    "print(\"F1score_train =\" , f1score_train)\n",
    "print(\"recal_train =\" ,recall_train)\n",
    "print(\"precision_train =\", precision_train)"
   ]
  },
  {
   "cell_type": "code",
   "execution_count": null,
   "metadata": {},
   "outputs": [],
   "source": [
    "#For Test"
   ]
  },
  {
   "cell_type": "code",
   "execution_count": 35,
   "metadata": {},
   "outputs": [],
   "source": [
    "cbt_test = TimeHistory()"
   ]
  },
  {
   "cell_type": "code",
   "execution_count": 38,
   "metadata": {
    "scrolled": false
   },
   "outputs": [
    {
     "name": "stdout",
     "output_type": "stream",
     "text": [
      "Epoch 1/50\n",
      "10000/10000 [==============================] - 2s 236us/step - loss: 0.4605 - acc: 0.8794\n",
      "Epoch 2/50\n",
      "10000/10000 [==============================] - 2s 238us/step - loss: 0.2887 - acc: 0.9049\n",
      "Epoch 3/50\n",
      "10000/10000 [==============================] - 2s 246us/step - loss: 0.2265 - acc: 0.9223\n",
      "Epoch 4/50\n",
      "10000/10000 [==============================] - 3s 268us/step - loss: 0.1941 - acc: 0.9299 0s - loss: 0.1947 - acc: 0.9\n",
      "Epoch 5/50\n",
      "10000/10000 [==============================] - 3s 261us/step - loss: 0.1673 - acc: 0.9418 1s - loss: 0.\n",
      "Epoch 6/50\n",
      "10000/10000 [==============================] - 2s 236us/step - loss: 0.1465 - acc: 0.9466\n",
      "Epoch 7/50\n",
      "10000/10000 [==============================] - 2s 231us/step - loss: 0.1310 - acc: 0.9537 0s - loss: 0.1311 - acc: 0.953\n",
      "Epoch 8/50\n",
      "10000/10000 [==============================] - 3s 293us/step - loss: 0.1173 - acc: 0.9585\n",
      "Epoch 9/50\n",
      "10000/10000 [==============================] - 2s 245us/step - loss: 0.1045 - acc: 0.9634\n",
      "Epoch 10/50\n",
      "10000/10000 [==============================] - 2s 237us/step - loss: 0.0946 - acc: 0.9656\n",
      "Epoch 11/50\n",
      "10000/10000 [==============================] - 2s 234us/step - loss: 0.0795 - acc: 0.9736\n",
      "Epoch 12/50\n",
      "10000/10000 [==============================] - 2s 231us/step - loss: 0.0780 - acc: 0.9738\n",
      "Epoch 13/50\n",
      "10000/10000 [==============================] - 2s 237us/step - loss: 0.0723 - acc: 0.9769\n",
      "Epoch 14/50\n",
      "10000/10000 [==============================] - 2s 233us/step - loss: 0.0674 - acc: 0.9779\n",
      "Epoch 15/50\n",
      "10000/10000 [==============================] - 2s 227us/step - loss: 0.0647 - acc: 0.9817\n",
      "Epoch 16/50\n",
      "10000/10000 [==============================] - 2s 224us/step - loss: 0.0573 - acc: 0.9843\n",
      "Epoch 17/50\n",
      "10000/10000 [==============================] - 2s 220us/step - loss: 0.0527 - acc: 0.9853\n",
      "Epoch 18/50\n",
      "10000/10000 [==============================] - 2s 227us/step - loss: 0.0517 - acc: 0.9846\n",
      "Epoch 19/50\n",
      "10000/10000 [==============================] - 2s 219us/step - loss: 0.0501 - acc: 0.9859\n",
      "Epoch 20/50\n",
      "10000/10000 [==============================] - 2s 223us/step - loss: 0.0460 - acc: 0.9869\n",
      "Epoch 21/50\n",
      "10000/10000 [==============================] - 2s 226us/step - loss: 0.0418 - acc: 0.9887 1s - loss: 0\n",
      "Epoch 22/50\n",
      "10000/10000 [==============================] - 2s 223us/step - loss: 0.0451 - acc: 0.9882\n",
      "Epoch 23/50\n",
      "10000/10000 [==============================] - 2s 226us/step - loss: 0.0452 - acc: 0.9893\n",
      "Epoch 24/50\n",
      "10000/10000 [==============================] - 2s 220us/step - loss: 0.0380 - acc: 0.9913\n",
      "Epoch 25/50\n",
      "10000/10000 [==============================] - 2s 232us/step - loss: 0.0350 - acc: 0.9923\n",
      "Epoch 26/50\n",
      "10000/10000 [==============================] - 2s 232us/step - loss: 0.0379 - acc: 0.9903 2s - lo\n",
      "Epoch 27/50\n",
      "10000/10000 [==============================] - 2s 234us/step - loss: 0.0378 - acc: 0.9903\n",
      "Epoch 28/50\n",
      "10000/10000 [==============================] - 2s 242us/step - loss: 0.0354 - acc: 0.9914\n",
      "Epoch 29/50\n",
      "10000/10000 [==============================] - 2s 235us/step - loss: 0.0309 - acc: 0.9934 1s - loss: 0. - ETA: 0s - loss: 0.0312 - acc: 0\n",
      "Epoch 30/50\n",
      "10000/10000 [==============================] - 2s 234us/step - loss: 0.0344 - acc: 0.9930\n",
      "Epoch 31/50\n",
      "10000/10000 [==============================] - 2s 234us/step - loss: 0.0312 - acc: 0.9921\n",
      "Epoch 32/50\n",
      "10000/10000 [==============================] - 3s 264us/step - loss: 0.0366 - acc: 0.9899\n",
      "Epoch 33/50\n",
      "10000/10000 [==============================] - 2s 225us/step - loss: 0.0324 - acc: 0.9933\n",
      "Epoch 34/50\n",
      "10000/10000 [==============================] - 2s 229us/step - loss: 0.0318 - acc: 0.9939\n",
      "Epoch 35/50\n",
      "10000/10000 [==============================] - 2s 223us/step - loss: 0.0268 - acc: 0.9939\n",
      "Epoch 36/50\n",
      "10000/10000 [==============================] - 2s 224us/step - loss: 0.0329 - acc: 0.9921\n",
      "Epoch 37/50\n",
      "10000/10000 [==============================] - 2s 236us/step - loss: 0.0303 - acc: 0.9933\n",
      "Epoch 38/50\n",
      "10000/10000 [==============================] - 2s 232us/step - loss: 0.0317 - acc: 0.9935\n",
      "Epoch 39/50\n",
      "10000/10000 [==============================] - 2s 233us/step - loss: 0.0287 - acc: 0.9941\n",
      "Epoch 40/50\n",
      "10000/10000 [==============================] - 2s 221us/step - loss: 0.0303 - acc: 0.9933\n",
      "Epoch 41/50\n",
      "10000/10000 [==============================] - 2s 223us/step - loss: 0.0288 - acc: 0.9939\n",
      "Epoch 42/50\n",
      "10000/10000 [==============================] - 2s 219us/step - loss: 0.0280 - acc: 0.9944\n",
      "Epoch 43/50\n",
      "10000/10000 [==============================] - 2s 236us/step - loss: 0.0331 - acc: 0.9923\n",
      "Epoch 44/50\n",
      "10000/10000 [==============================] - 2s 228us/step - loss: 0.0248 - acc: 0.9945 0s - loss: 0.0244 - acc:\n",
      "Epoch 45/50\n",
      "10000/10000 [==============================] - 2s 236us/step - loss: 0.0260 - acc: 0.9942\n",
      "Epoch 46/50\n",
      "10000/10000 [==============================] - 2s 220us/step - loss: 0.0308 - acc: 0.9933\n",
      "Epoch 47/50\n",
      "10000/10000 [==============================] - 2s 233us/step - loss: 0.0278 - acc: 0.9931\n",
      "Epoch 48/50\n",
      "10000/10000 [==============================] - 2s 219us/step - loss: 0.0211 - acc: 0.9965\n",
      "Epoch 49/50\n",
      "10000/10000 [==============================] - 2s 226us/step - loss: 0.0236 - acc: 0.9953\n",
      "Epoch 50/50\n",
      "10000/10000 [==============================] - 2s 220us/step - loss: 0.0288 - acc: 0.9941\n"
     ]
    }
   ],
   "source": [
    "history1_test = model.fit(x_images_test,one_hot_labels_test,epochs=50, batch_size=200 , callbacks=[cbt_test])\n",
    "predictions_test = model.predict(x_images_test)"
   ]
  },
  {
   "cell_type": "code",
   "execution_count": 39,
   "metadata": {},
   "outputs": [
    {
     "data": {
      "image/png": "[encoded data removed]",
      "text/plain": [
       "<Figure size 432x288 with 1 Axes>"
      ]
     },
     "metadata": {
      "needs_background": "light"
     },
     "output_type": "display_data"
    }
   ],
   "source": [
    "plt.plot(history1_test.history['loss'])\n",
    "\n",
    "plt.title('Epochs vs Losses')\n",
    "plt.ylabel('losses')\n",
    "plt.xlabel('Epoch')\n",
    "\n",
    "plt.show()"
   ]
  },
  {
   "cell_type": "code",
   "execution_count": 40,
   "metadata": {},
   "outputs": [
    {
     "data": {
      "image/png": "[encoded data removed]",
      "text/plain": [
       "<Figure size 432x288 with 1 Axes>"
      ]
     },
     "metadata": {
      "needs_background": "light"
     },
     "output_type": "display_data"
    }
   ],
   "source": [
    "plt.plot(history1_test.history['loss'])\n",
    "plt.plot(cbt_test.times)\n",
    "plt.title('Epochs and Time vs Losses ')\n",
    "plt.ylabel('losses and Time')\n",
    "plt.xlabel('Epoch')\n",
    "\n",
    "plt.show()"
   ]
  },
  {
   "cell_type": "code",
   "execution_count": 41,
   "metadata": {},
   "outputs": [
    {
     "data": {
      "text/plain": [
       "array([9, 2, 1, ..., 8, 1, 5], dtype=int64)"
      ]
     },
     "execution_count": 41,
     "metadata": {},
     "output_type": "execute_result"
    }
   ],
   "source": [
    "max_test = np.argmax(predictions_test, axis=1)\n",
    "max_test"
   ]
  },
  {
   "cell_type": "code",
   "execution_count": 42,
   "metadata": {},
   "outputs": [
    {
     "data": {
      "text/plain": [
       "array([[ 997,    1,    0,    0,    0,    0,    0,    0,    2,    0],\n",
       "       [   0,  999,    0,    0,    0,    0,    0,    0,    1,    0],\n",
       "       [   0,    0,  999,    0,    1,    0,    0,    0,    0,    0],\n",
       "       [   0,    1,    0,  974,   25,    0,    0,    0,    0,    0],\n",
       "       [   0,    0,    3,    0,  997,    0,    0,    0,    0,    0],\n",
       "       [   0,    0,    0,    0,    0, 1000,    0,    0,    0,    0],\n",
       "       [   0,    0,    1,    0,    1,    0,  997,    0,    1,    0],\n",
       "       [   0,    0,    0,    0,    0,    0,    0, 1000,    0,    0],\n",
       "       [   0,    0,    0,    0,    0,    0,    0,    0, 1000,    0],\n",
       "       [   1,    0,    0,    0,    0,    0,    0,    0,    0,  999]],\n",
       "      dtype=int64)"
      ]
     },
     "execution_count": 42,
     "metadata": {},
     "output_type": "execute_result"
    }
   ],
   "source": [
    "cm_test =confusion_matrix(labels_test, max_test)\n",
    "cm_test"
   ]
  },
  {
   "cell_type": "code",
   "execution_count": 43,
   "metadata": {},
   "outputs": [
    {
     "name": "stdout",
     "output_type": "stream",
     "text": [
      "accuracy_test = 0.9962\n",
      "F1score_test = 0.9962010620192912\n",
      "recal_test = 0.9962\n",
      "precision_test = 0.9962660706856639\n"
     ]
    }
   ],
   "source": [
    "accuracy_test = accuracy_score(labels_test,max_test)\n",
    "f1score_test = f1_score(labels_test,max_test,average='weighted')\n",
    "recall_test = recall_score(labels_test,max_test,average='weighted')\n",
    "precision_test = precision_score(labels_test,max_test,average='weighted')\n",
    "\n",
    "print(\"accuracy_test =\" , accuracy_test)\n",
    "print(\"F1score_test =\" , f1score_test)\n",
    "print(\"recal_test =\" ,recall_test)\n",
    "print(\"precision_test =\", precision_test)"
   ]
  },
  {
   "cell_type": "code",
   "execution_count": 44,
   "metadata": {},
   "outputs": [
    {
     "data": {
      "text/plain": [
       "array([[0., 0., 0., ..., 0., 0., 1.],\n",
       "       [1., 0., 0., ..., 0., 0., 0.],\n",
       "       [0., 0., 0., ..., 0., 0., 0.],\n",
       "       ...,\n",
       "       [0., 0., 0., ..., 0., 0., 0.],\n",
       "       [1., 0., 0., ..., 0., 0., 0.],\n",
       "       [0., 0., 0., ..., 0., 0., 0.]], dtype=float32)"
      ]
     },
     "execution_count": 44,
     "metadata": {},
     "output_type": "execute_result"
    }
   ],
   "source": [
    "max_train = predictions_train.max(axis=1)\n",
    "size = len(predictions_train)\n",
    "\n",
    "for i in range(size):\n",
    "     predictions_train[i,][predictions_train[i,] == max_train[i]] = 1\n",
    "     predictions_train[i,][predictions_train[i,] != max_train[i]] = 0\n",
    "predictions_train\n"
   ]
  },
  {
   "cell_type": "code",
   "execution_count": 45,
   "metadata": {},
   "outputs": [
    {
     "data": {
      "text/plain": [
       "array([0., 1., 1., ..., 0., 1., 0.], dtype=float32)"
      ]
     },
     "execution_count": 45,
     "metadata": {},
     "output_type": "execute_result"
    }
   ],
   "source": [
    "one_hot_labels_train[:,0]"
   ]
  },
  {
   "cell_type": "code",
   "execution_count": 46,
   "metadata": {},
   "outputs": [
    {
     "name": "stdout",
     "output_type": "stream",
     "text": [
      "accuracy_train_0 = 0.9236333333333333\n",
      "F1score_train_0 = 0.9016020278899772\n",
      "recal_train_0 = 0.9236333333333333\n",
      "precision_train_0 = 0.9296063637294733\n"
     ]
    }
   ],
   "source": [
    "accuracy_train_0 = accuracy_score(one_hot_labels_train[:,0],predictions_train[:,0])\n",
    "f1score_train_0 = f1_score(one_hot_labels_train[:,0],predictions_train[:,0],average='weighted')\n",
    "recall_train_0 = recall_score(one_hot_labels_train[:,0],predictions_train[:,0],average='weighted')\n",
    "precision_train_0 = precision_score(one_hot_labels_train[:,0],predictions_train[:,0],average='weighted')\n",
    "\n",
    "print(\"accuracy_train_0 =\" , accuracy_train_0)\n",
    "print(\"F1score_train_0 =\" , f1score_train_0)\n",
    "print(\"recal_train_0 =\" ,recall_train_0)\n",
    "print(\"precision_train_0 =\", precision_train_0)"
   ]
  },
  {
   "cell_type": "code",
   "execution_count": 47,
   "metadata": {},
   "outputs": [
    {
     "name": "stdout",
     "output_type": "stream",
     "text": [
      "accuracy_train_1 = 0.9947166666666667\n",
      "F1score_train_1 = 0.9946527202467229\n",
      "recal_train_1 = 0.9947166666666667\n",
      "precision_train_1 = 0.9947475007824437\n"
     ]
    }
   ],
   "source": [
    "accuracy_train_1 = accuracy_score(one_hot_labels_train[:,1],predictions_train[:,1])\n",
    "f1score_train_1 = f1_score(one_hot_labels_train[:,1],predictions_train[:,1],average='weighted')\n",
    "recall_train_1 = recall_score(one_hot_labels_train[:,1],predictions_train[:,1],average='weighted')\n",
    "precision_train_1 = precision_score(one_hot_labels_train[:,1],predictions_train[:,1],average='weighted')\n",
    "\n",
    "print(\"accuracy_train_1 =\" , accuracy_train_1)\n",
    "print(\"F1score_train_1 =\" , f1score_train_1)\n",
    "print(\"recal_train_1 =\" ,recall_train_1)\n",
    "print(\"precision_train_1 =\", precision_train_1)"
   ]
  },
  {
   "cell_type": "code",
   "execution_count": 48,
   "metadata": {},
   "outputs": [
    {
     "name": "stdout",
     "output_type": "stream",
     "text": [
      "accuracy_train_2 = 0.9123\n",
      "F1score_train_2 = 0.8800928219243374\n",
      "recal_train_2 = 0.9123\n",
      "precision_train_2 = 0.9200870709729675\n"
     ]
    }
   ],
   "source": [
    "accuracy_train_2 = accuracy_score(one_hot_labels_train[:,2],predictions_train[:,2])\n",
    "f1score_train_2 = f1_score(one_hot_labels_train[:,2],predictions_train[:,2],average='weighted')\n",
    "recall_train_2 = recall_score(one_hot_labels_train[:,2],predictions_train[:,2],average='weighted')\n",
    "precision_train_2 = precision_score(one_hot_labels_train[:,2],predictions_train[:,2],average='weighted')\n",
    "\n",
    "print(\"accuracy_train_2 =\" , accuracy_train_2)\n",
    "print(\"F1score_train_2 =\" , f1score_train_2)\n",
    "print(\"recal_train_2 =\" ,recall_train_2)\n",
    "print(\"precision_train_2 =\", precision_train_2)"
   ]
  },
  {
   "cell_type": "code",
   "execution_count": 49,
   "metadata": {},
   "outputs": [
    {
     "name": "stdout",
     "output_type": "stream",
     "text": [
      "accuracy_train_3 = 0.9291666666666667\n",
      "F1score_train_3 = 0.9110855664918456\n",
      "recal_train_3 = 0.9291666666666667\n",
      "precision_train_3 = 0.9343347639484979\n"
     ]
    }
   ],
   "source": [
    "accuracy_train_3 = accuracy_score(one_hot_labels_train[:,3],predictions_train[:,3])\n",
    "f1score_train_3 = f1_score(one_hot_labels_train[:,3],predictions_train[:,3],average='weighted')\n",
    "recall_train_3= recall_score(one_hot_labels_train[:,3],predictions_train[:,3],average='weighted')\n",
    "precision_train_3 = precision_score(one_hot_labels_train[:,3],predictions_train[:,3],average='weighted')\n",
    "\n",
    "print(\"accuracy_train_3 =\" , accuracy_train_3)\n",
    "print(\"F1score_train_3 =\" , f1score_train_3)\n",
    "print(\"recal_train_3 =\" ,recall_train_3)\n",
    "print(\"precision_train_3 =\", precision_train_3)"
   ]
  },
  {
   "cell_type": "code",
   "execution_count": 50,
   "metadata": {},
   "outputs": [
    {
     "name": "stdout",
     "output_type": "stream",
     "text": [
      "accuracy_train_4 = 0.9087666666666666\n",
      "F1score_train_4 = 0.8727040219030626\n",
      "recal_train_4 = 0.9087666666666666\n",
      "precision_train_4 = 0.9171638026700744\n"
     ]
    }
   ],
   "source": [
    "accuracy_train_4 = accuracy_score(one_hot_labels_train[:,4],predictions_train[:,4])\n",
    "f1score_train_4 = f1_score(one_hot_labels_train[:,4],predictions_train[:,4],average='weighted')\n",
    "recall_train_4= recall_score(one_hot_labels_train[:,4],predictions_train[:,4],average='weighted')\n",
    "precision_train_4 = precision_score(one_hot_labels_train[:,4],predictions_train[:,4],average='weighted')\n",
    "\n",
    "print(\"accuracy_train_4 =\" , accuracy_train_4)\n",
    "print(\"F1score_train_4 =\" , f1score_train_4)\n",
    "print(\"recal_train_4 =\" ,recall_train_4)\n",
    "print(\"precision_train_4 =\", precision_train_4)"
   ]
  },
  {
   "cell_type": "code",
   "execution_count": 51,
   "metadata": {},
   "outputs": [
    {
     "name": "stdout",
     "output_type": "stream",
     "text": [
      "accuracy_train_5 = 0.98735\n",
      "F1score_train_5 = 0.9869670721636018\n",
      "recal_train_5 = 0.98735\n",
      "precision_train_5 = 0.9875253383005533\n"
     ]
    }
   ],
   "source": [
    "accuracy_train_5 = accuracy_score(one_hot_labels_train[:,5],predictions_train[:,5])\n",
    "f1score_train_5 = f1_score(one_hot_labels_train[:,5],predictions_train[:,5],average='weighted')\n",
    "recall_train_5 = recall_score(one_hot_labels_train[:,5],predictions_train[:,5],average='weighted')\n",
    "precision_train_5 = precision_score(one_hot_labels_train[:,5],predictions_train[:,5],average='weighted')\n",
    "\n",
    "print(\"accuracy_train_5 =\" , accuracy_train_5)\n",
    "print(\"F1score_train_5 =\" , f1score_train_5)\n",
    "print(\"recal_train_5 =\" ,recall_train_5)\n",
    "print(\"precision_train_5 =\", precision_train_5)"
   ]
  },
  {
   "cell_type": "code",
   "execution_count": 52,
   "metadata": {},
   "outputs": [
    {
     "name": "stdout",
     "output_type": "stream",
     "text": [
      "accuracy_train_6 = 0.9177833333333333\n",
      "F1score_train_6 = 0.8908839990104918\n",
      "recal_train_6 = 0.9177833333333333\n",
      "precision_train_6 = 0.9246652978806441\n"
     ]
    }
   ],
   "source": [
    "accuracy_train_6 = accuracy_score(one_hot_labels_train[:,6],predictions_train[:,6])\n",
    "f1score_train_6 = f1_score(one_hot_labels_train[:,6],predictions_train[:,6],average='weighted')\n",
    "recall_train_6 = recall_score(one_hot_labels_train[:,6],predictions_train[:,6],average='weighted')\n",
    "precision_train_6 = precision_score(one_hot_labels_train[:,6],predictions_train[:,6],average='weighted')\n",
    "\n",
    "print(\"accuracy_train_6 =\" , accuracy_train_6)\n",
    "print(\"F1score_train_6 =\" , f1score_train_6)\n",
    "print(\"recal_train_6 =\" ,recall_train_6)\n",
    "print(\"precision_train_6 =\", precision_train_6)"
   ]
  },
  {
   "cell_type": "code",
   "execution_count": 53,
   "metadata": {},
   "outputs": [
    {
     "name": "stdout",
     "output_type": "stream",
     "text": [
      "accuracy_train_7 = 0.9569\n",
      "F1score_train_7 = 0.9514842103628786\n",
      "recal_train_7 = 0.9569\n",
      "precision_train_7 = 0.9588696850811155\n"
     ]
    }
   ],
   "source": [
    "accuracy_train_7 = accuracy_score(one_hot_labels_train[:,7],predictions_train[:,7])\n",
    "f1score_train_7 = f1_score(one_hot_labels_train[:,7],predictions_train[:,7],average='weighted')\n",
    "recall_train_7= recall_score(one_hot_labels_train[:,7],predictions_train[:,7],average='weighted')\n",
    "precision_train_7 = precision_score(one_hot_labels_train[:,7],predictions_train[:,7],average='weighted')\n",
    "\n",
    "print(\"accuracy_train_7 =\" , accuracy_train_7)\n",
    "print(\"F1score_train_7 =\" , f1score_train_7)\n",
    "print(\"recal_train_7 =\" ,recall_train_7)\n",
    "print(\"precision_train_7 =\", precision_train_7)"
   ]
  },
  {
   "cell_type": "code",
   "execution_count": 54,
   "metadata": {},
   "outputs": [
    {
     "name": "stdout",
     "output_type": "stream",
     "text": [
      "accuracy_train_8 = 0.9893666666666666\n",
      "F1score_train_8 = 0.9890993480107841\n",
      "recal_train_8 = 0.9893666666666666\n",
      "precision_train_8 = 0.9894908305574874\n"
     ]
    }
   ],
   "source": [
    "accuracy_train_8 = accuracy_score(one_hot_labels_train[:,8],predictions_train[:,8])\n",
    "f1score_train_8 = f1_score(one_hot_labels_train[:,8],predictions_train[:,8],average='weighted')\n",
    "recall_train_8 = recall_score(one_hot_labels_train[:,8],predictions_train[:,8],average='weighted')\n",
    "precision_train_8 = precision_score(one_hot_labels_train[:,8],predictions_train[:,8],average='weighted')\n",
    "\n",
    "print(\"accuracy_train_8 =\" , accuracy_train_8)\n",
    "print(\"F1score_train_8 =\" , f1score_train_8)\n",
    "print(\"recal_train_8 =\" ,recall_train_8)\n",
    "print(\"precision_train_8 =\", precision_train_8)"
   ]
  },
  {
   "cell_type": "code",
   "execution_count": 55,
   "metadata": {},
   "outputs": [
    {
     "name": "stdout",
     "output_type": "stream",
     "text": [
      "accuracy_train_9 = 0.9786833333333333\n",
      "F1score_train_9 = 0.9775365543724611\n",
      "recal_train_9 = 0.9786833333333333\n",
      "precision_train_9 = 0.979176540820203\n"
     ]
    }
   ],
   "source": [
    "accuracy_train_9 = accuracy_score(one_hot_labels_train[:,9],predictions_train[:,9])\n",
    "f1score_train_9 = f1_score(one_hot_labels_train[:,9],predictions_train[:,9],average='weighted')\n",
    "recall_train_9 = recall_score(one_hot_labels_train[:,9],predictions_train[:,9],average='weighted')\n",
    "precision_train_9 = precision_score(one_hot_labels_train[:,9],predictions_train[:,9],average='weighted')\n",
    "\n",
    "print(\"accuracy_train_9 =\" , accuracy_train_9)\n",
    "print(\"F1score_train_9 =\" , f1score_train_9)\n",
    "print(\"recal_train_9 =\" ,recall_train_9)\n",
    "print(\"precision_train_9 =\", precision_train_9)"
   ]
  },
  {
   "cell_type": "code",
   "execution_count": 56,
   "metadata": {},
   "outputs": [
    {
     "data": {
      "text/plain": [
       "array([[0., 0., 0., ..., 0., 0., 0.],\n",
       "       [0., 0., 1., ..., 0., 0., 0.],\n",
       "       [0., 1., 0., ..., 0., 0., 0.],\n",
       "       ...,\n",
       "       [0., 0., 0., ..., 0., 1., 0.],\n",
       "       [0., 1., 0., ..., 0., 0., 0.],\n",
       "       [0., 0., 0., ..., 0., 0., 0.]], dtype=float32)"
      ]
     },
     "execution_count": 56,
     "metadata": {},
     "output_type": "execute_result"
    }
   ],
   "source": [
    "max_test = predictions_test.max(axis=1)\n",
    "size_test = len(predictions_test)\n",
    "\n",
    "for i in range(size_test):\n",
    "     predictions_test[i,][predictions_test[i,] == max_test[i]] = 1\n",
    "     predictions_test[i,][predictions_test[i,] != max_test[i]] = 0\n",
    "predictions_test"
   ]
  },
  {
   "cell_type": "code",
   "execution_count": 57,
   "metadata": {},
   "outputs": [
    {
     "name": "stdout",
     "output_type": "stream",
     "text": [
      "accuracy_test_0 = 0.9545\n",
      "F1score_test_0 = 0.9483610531696534\n",
      "recal_test_0 = 0.9545\n",
      "precision_test_0 = 0.9566895822316235\n"
     ]
    }
   ],
   "source": [
    "accuracy_test_0 = accuracy_score(one_hot_labels_test[:,0],predictions_test[:,0])\n",
    "f1score_test_0 = f1_score(one_hot_labels_test[:,0],predictions_test[:,0],average='weighted')\n",
    "recall_test_0 = recall_score(one_hot_labels_test[:,0],predictions_test[:,0],average='weighted')\n",
    "precision_test_0 = precision_score(one_hot_labels_test[:,0],predictions_test[:,0],average='weighted')\n",
    "\n",
    "print(\"accuracy_test_0 =\" , accuracy_test_0)\n",
    "print(\"F1score_test_0 =\" , f1score_test_0)\n",
    "print(\"recal_test_0 =\" ,recall_test_0)\n",
    "print(\"precision_test_0 =\", precision_test_0)"
   ]
  },
  {
   "cell_type": "code",
   "execution_count": 58,
   "metadata": {},
   "outputs": [
    {
     "name": "stdout",
     "output_type": "stream",
     "text": [
      "accuracy_test_1 = 0.9932\n",
      "F1score_test_1 = 0.9930931273665486\n",
      "recal_test_1 = 0.9932\n",
      "precision_test_1 = 0.9932509925011027\n"
     ]
    }
   ],
   "source": [
    "accuracy_test_1 = accuracy_score(one_hot_labels_test[:,1],predictions_test[:,1])\n",
    "f1score_test_1 = f1_score(one_hot_labels_test[:,1],predictions_test[:,1],average='weighted')\n",
    "recall_test_1 = recall_score(one_hot_labels_test[:,1],predictions_test[:,1],average='weighted')\n",
    "precision_test_1 = precision_score(one_hot_labels_test[:,1],predictions_test[:,1],average='weighted')\n",
    "\n",
    "print(\"accuracy_test_1 =\" , accuracy_test_1)\n",
    "print(\"F1score_test_1 =\" , f1score_test_1)\n",
    "print(\"recal_test_1 =\" ,recall_test_1)\n",
    "print(\"precision_test_1 =\", precision_test_1)"
   ]
  },
  {
   "cell_type": "code",
   "execution_count": 59,
   "metadata": {},
   "outputs": [
    {
     "name": "stdout",
     "output_type": "stream",
     "text": [
      "accuracy_test_2 = 0.9429\n",
      "F1score_test_2 = 0.9323698103535393\n",
      "recal_test_2 = 0.9429\n",
      "precision_test_2 = 0.9463065510395989\n"
     ]
    }
   ],
   "source": [
    "accuracy_test_2 = accuracy_score(one_hot_labels_test[:,2],predictions_test[:,2])\n",
    "f1score_test_2 = f1_score(one_hot_labels_test[:,2],predictions_test[:,2],average='weighted')\n",
    "recall_test_2 = recall_score(one_hot_labels_test[:,2],predictions_test[:,2],average='weighted')\n",
    "precision_test_2 = precision_score(one_hot_labels_test[:,2],predictions_test[:,2],average='weighted')\n",
    "\n",
    "print(\"accuracy_test_2 =\" , accuracy_test_2)\n",
    "print(\"F1score_test_2 =\" , f1score_test_2)\n",
    "print(\"recal_test_2 =\" ,recall_test_2)\n",
    "print(\"precision_test_2 =\", precision_test_2)"
   ]
  },
  {
   "cell_type": "code",
   "execution_count": 60,
   "metadata": {},
   "outputs": [
    {
     "name": "stdout",
     "output_type": "stream",
     "text": [
      "accuracy_test_3 = 0.9523\n",
      "F1score_test_3 = 0.9454459450945224\n",
      "recal_test_3 = 0.9523\n",
      "precision_test_3 = 0.9547008547008546\n"
     ]
    }
   ],
   "source": [
    "accuracy_test_3 = accuracy_score(one_hot_labels_test[:,3],predictions_test[:,3])\n",
    "f1score_test_3 = f1_score(one_hot_labels_test[:,3],predictions_test[:,3],average='weighted')\n",
    "recall_test_3 = recall_score(one_hot_labels_test[:,3],predictions_test[:,3],average='weighted')\n",
    "precision_test_3 = precision_score(one_hot_labels_test[:,3],predictions_test[:,3],average='weighted')\n",
    "\n",
    "print(\"accuracy_test_3 =\" , accuracy_test_3)\n",
    "print(\"F1score_test_3 =\" , f1score_test_3)\n",
    "print(\"recal_test_3 =\" ,recall_test_3)\n",
    "print(\"precision_test_3 =\", precision_test_3)"
   ]
  },
  {
   "cell_type": "code",
   "execution_count": 61,
   "metadata": {},
   "outputs": [
    {
     "name": "stdout",
     "output_type": "stream",
     "text": [
      "accuracy_test_4 = 0.9255\n",
      "F1score_test_4 = 0.9048679116555916\n",
      "recal_test_4 = 0.9255\n",
      "precision_test_4 = 0.9311954848640327\n"
     ]
    }
   ],
   "source": [
    "accuracy_test_4 = accuracy_score(one_hot_labels_test[:,4],predictions_test[:,4])\n",
    "f1score_test_4 = f1_score(one_hot_labels_test[:,4],predictions_test[:,4],average='weighted')\n",
    "recall_test_4 = recall_score(one_hot_labels_test[:,4],predictions_test[:,4],average='weighted')\n",
    "precision_test_4 = precision_score(one_hot_labels_test[:,4],predictions_test[:,4],average='weighted')\n",
    "\n",
    "print(\"accuracy_test_4 =\" , accuracy_test_4)\n",
    "print(\"F1score_test_4 =\" , f1score_test_4)\n",
    "print(\"recal_test_4 =\" ,recall_test_4)\n",
    "print(\"precision_test_4 =\", precision_test_4)"
   ]
  },
  {
   "cell_type": "code",
   "execution_count": 62,
   "metadata": {},
   "outputs": [
    {
     "name": "stdout",
     "output_type": "stream",
     "text": [
      "accuracy_test_5 = 0.9939\n",
      "F1score_test_5 = 0.9938143496800811\n",
      "recal_test_5 = 0.9939\n",
      "precision_test_5 = 0.9939410661074937\n"
     ]
    }
   ],
   "source": [
    "accuracy_test_5 = accuracy_score(one_hot_labels_test[:,5],predictions_test[:,5])\n",
    "f1score_test_5 = f1_score(one_hot_labels_test[:,5],predictions_test[:,5],average='weighted')\n",
    "recall_test_5 = recall_score(one_hot_labels_test[:,5],predictions_test[:,5],average='weighted')\n",
    "precision_test_5 = precision_score(one_hot_labels_test[:,5],predictions_test[:,5],average='weighted')\n",
    "\n",
    "print(\"accuracy_test_5 =\" , accuracy_test_5)\n",
    "print(\"F1score_test_5 =\" , f1score_test_5)\n",
    "print(\"recal_test_5 =\" ,recall_test_5)\n",
    "print(\"precision_test_5 =\", precision_test_5)"
   ]
  },
  {
   "cell_type": "code",
   "execution_count": 63,
   "metadata": {},
   "outputs": [
    {
     "name": "stdout",
     "output_type": "stream",
     "text": [
      "accuracy_test_6 = 0.9234\n",
      "F1score_test_6 = 0.9011887943142111\n",
      "recal_test_6 = 0.9234\n",
      "precision_test_6 = 0.9294081507270121\n"
     ]
    }
   ],
   "source": [
    "accuracy_test_6 = accuracy_score(one_hot_labels_test[:,6],predictions_test[:,6])\n",
    "f1score_test_6 = f1_score(one_hot_labels_test[:,6],predictions_test[:,6],average='weighted')\n",
    "recall_test_6 = recall_score(one_hot_labels_test[:,6],predictions_test[:,6],average='weighted')\n",
    "precision_test_6 = precision_score(one_hot_labels_test[:,6],predictions_test[:,6],average='weighted')\n",
    "\n",
    "print(\"accuracy_test_6 =\" , accuracy_test_6)\n",
    "print(\"F1score_test_6 =\" , f1score_test_6)\n",
    "print(\"recal_test_6 =\" ,recall_test_6)\n",
    "print(\"precision_test_6 =\", precision_test_6)"
   ]
  },
  {
   "cell_type": "code",
   "execution_count": 64,
   "metadata": {},
   "outputs": [
    {
     "name": "stdout",
     "output_type": "stream",
     "text": [
      "accuracy_test_7 = 0.9672\n",
      "F1score_test_7 = 0.9642762714094469\n",
      "recal_test_7 = 0.9672\n",
      "precision_test_7 = 0.968353344768439\n"
     ]
    }
   ],
   "source": [
    "accuracy_test_7 = accuracy_score(one_hot_labels_test[:,7],predictions_test[:,7])\n",
    "f1score_test_7 = f1_score(one_hot_labels_test[:,7],predictions_test[:,7],average='weighted')\n",
    "recall_test_7 = recall_score(one_hot_labels_test[:,7],predictions_test[:,7],average='weighted')\n",
    "precision_test_7 = precision_score(one_hot_labels_test[:,7],predictions_test[:,7],average='weighted')\n",
    "\n",
    "print(\"accuracy_test_7 =\" , accuracy_test_7)\n",
    "print(\"F1score_test_7 =\" , f1score_test_7)\n",
    "print(\"recal_test_7 =\" ,recall_test_7)\n",
    "print(\"precision_test_7 =\", precision_test_7)"
   ]
  },
  {
   "cell_type": "code",
   "execution_count": 65,
   "metadata": {},
   "outputs": [
    {
     "name": "stdout",
     "output_type": "stream",
     "text": [
      "accuracy_test_8 = 0.989\n",
      "F1score_test_8 = 0.9887243851210127\n",
      "recal_test_8 = 0.989\n",
      "precision_test_8 = 0.9891020056594196\n"
     ]
    }
   ],
   "source": [
    "accuracy_test_8 = accuracy_score(one_hot_labels_test[:,8],predictions_test[:,8])\n",
    "f1score_test_8 = f1_score(one_hot_labels_test[:,8],predictions_test[:,8],average='weighted')\n",
    "recall_test_8 = recall_score(one_hot_labels_test[:,8],predictions_test[:,8],average='weighted')\n",
    "precision_test_8 = precision_score(one_hot_labels_test[:,8],predictions_test[:,8],average='weighted')\n",
    "\n",
    "print(\"accuracy_test_8 =\" , accuracy_test_8)\n",
    "print(\"F1score_test_8 =\" , f1score_test_8)\n",
    "print(\"recal_test_8 =\" ,recall_test_8)\n",
    "print(\"precision_test_8 =\", precision_test_8)"
   ]
  },
  {
   "cell_type": "code",
   "execution_count": 66,
   "metadata": {},
   "outputs": [
    {
     "name": "stdout",
     "output_type": "stream",
     "text": [
      "accuracy_test_9 = 0.9806\n",
      "F1score_test_9 = 0.9796614584950121\n",
      "recal_test_9 = 0.9806\n",
      "precision_test_9 = 0.9810093539264739\n"
     ]
    }
   ],
   "source": [
    "accuracy_test_9 = accuracy_score(one_hot_labels_test[:,9],predictions_test[:,9])\n",
    "f1score_test_9 = f1_score(one_hot_labels_test[:,9],predictions_test[:,9],average='weighted')\n",
    "recall_test_9 = recall_score(one_hot_labels_test[:,9],predictions_test[:,9],average='weighted')\n",
    "precision_test_9 = precision_score(one_hot_labels_test[:,9],predictions_test[:,9],average='weighted')\n",
    "\n",
    "print(\"accuracy_test_9 =\" , accuracy_test_9)\n",
    "print(\"F1score_test_9 =\" , f1score_test_9)\n",
    "print(\"recal_test_9 =\" ,recall_test_9)\n",
    "print(\"precision_test_9 =\", precision_test_9)"
   ]
  },
  {
   "cell_type": "markdown",
   "metadata": {},
   "source": [
    "# Task 2.1: Your own Small Convolution Neural Network to classify clothes\n",
    "1. Build a Convolution Neural network from scratch (i.e., without Tensorflow or Keras or similar\n",
    "computation frameworks ) with the following specification:\n",
    "◦ Convolution layer having 40 feature detectors, with kernel size 5 x 5, and rectifier as the\n",
    "activation function, with stride 1 and no-padding.\n",
    "◦ A max-pooling layer with pool size 2x2.\n",
    "◦ Fully connected layer with 100 neurons, and rectifier as the activation function.\n",
    "◦ Output layer containing 10 neurons, softmax as activation function."
   ]
  },
  {
   "cell_type": "markdown",
   "metadata": {},
   "source": [
    "# Task 2.2: Repeat Task 2.1 with Keras"
   ]
  },
  {
   "cell_type": "code",
   "execution_count": 67,
   "metadata": {},
   "outputs": [],
   "source": [
    "from keras.layers.normalization import BatchNormalization\n",
    "from keras.layers.convolutional import Conv2D\n",
    "from keras.layers.convolutional import MaxPooling2D\n",
    "from keras.layers.core import Activation\n",
    "from keras.layers.core import Flatten\n",
    "from keras.layers.core import Dropout\n",
    "from keras.layers.core import Dense"
   ]
  },
  {
   "cell_type": "code",
   "execution_count": 73,
   "metadata": {},
   "outputs": [
    {
     "data": {
      "text/plain": [
       "(60000, 784)"
      ]
     },
     "execution_count": 73,
     "metadata": {},
     "output_type": "execute_result"
    }
   ],
   "source": [
    "images_train.shape"
   ]
  },
  {
   "cell_type": "code",
   "execution_count": 74,
   "metadata": {},
   "outputs": [],
   "source": [
    "images_train1 = x_images_train.reshape(60000,28,28,1)\n",
    "images_test1 =x_images_test.reshape(10000,28,28,1)"
   ]
  },
  {
   "cell_type": "code",
   "execution_count": 75,
   "metadata": {},
   "outputs": [
    {
     "name": "stdout",
     "output_type": "stream",
     "text": [
      "(60000, 28, 28, 1)\n",
      "(10000, 28, 28, 1)\n"
     ]
    }
   ],
   "source": [
    "print(images_train1.shape)-\n",
    "print(images_test1.shape)"
   ]
  },
  {
   "cell_type": "code",
   "execution_count": 76,
   "metadata": {},
   "outputs": [],
   "source": [
    "model2 = Sequential()\n",
    "model2.add(Conv2D(40, kernel_size=(5, 5), strides=(1, 1),\n",
    "                 activation='relu',padding ='same',\n",
    "                input_shape = (28,28,1)))\n",
    "model2.add(MaxPooling2D(pool_size=(2, 2)))\n",
    "model2.add(Flatten())\n",
    "model2.add(Dense(100, activation='relu'))\n",
    "model2.add(Dense(10, activation='softmax'))"
   ]
  },
  {
   "cell_type": "code",
   "execution_count": 77,
   "metadata": {},
   "outputs": [],
   "source": [
    "import keras\n",
    "model2.compile(loss=keras.losses.categorical_crossentropy,\n",
    "              optimizer=keras.optimizers.sgd(),\n",
    "              metrics=['accuracy'])\n"
   ]
  },
  {
   "cell_type": "code",
   "execution_count": 78,
   "metadata": {},
   "outputs": [
    {
     "name": "stdout",
     "output_type": "stream",
     "text": [
      "(60000, 784)\n",
      "(60000, 10)\n",
      "(10000, 784)\n",
      "(10000, 10)\n"
     ]
    }
   ],
   "source": [
    "print(x_images_train.shape)\n",
    "print(one_hot_labels_train.shape)\n",
    "print(x_images_test.shape)\n",
    "print(one_hot_labels_test.shape)\n"
   ]
  },
  {
   "cell_type": "code",
   "execution_count": 79,
   "metadata": {},
   "outputs": [
    {
     "data": {
      "text/plain": [
       "(60000, 10, 1, 1)"
      ]
     },
     "execution_count": 79,
     "metadata": {},
     "output_type": "execute_result"
    }
   ],
   "source": [
    "one_hot_labels_test1 = one_hot_labels_test.reshape(10000,10,1,1)\n",
    "one_hot_labels_test1.shape\n",
    "\n",
    "one_hot_labels_train1 = one_hot_labels_train.reshape(60000,10,1,1)\n",
    "one_hot_labels_train1.shape"
   ]
  },
  {
   "cell_type": "code",
   "execution_count": 81,
   "metadata": {},
   "outputs": [],
   "source": [
    "cbt_train_cnn = TimeHistory()"
   ]
  },
  {
   "cell_type": "code",
   "execution_count": 99,
   "metadata": {
    "scrolled": true
   },
   "outputs": [],
   "source": [
    "history_test_cnn = model2.fit(images_train1,one_hot_labels_train,\n",
    "                   batch_size=200,\n",
    "                   epochs=50,\n",
    "                   verbose=0,\n",
    "                   validation_data=(images_test1,one_hot_labels_test) , callbacks=[cbt_train_cnn])"
   ]
  },
  {
   "cell_type": "code",
   "execution_count": 100,
   "metadata": {},
   "outputs": [],
   "source": [
    "score_cnn = model2.evaluate(images_test1,one_hot_labels_test, verbose=0)"
   ]
  },
  {
   "cell_type": "code",
   "execution_count": 101,
   "metadata": {},
   "outputs": [
    {
     "name": "stdout",
     "output_type": "stream",
     "text": [
      "Test loss: 0.2940361544013023\n",
      "Test accuracy: 0.895\n"
     ]
    }
   ],
   "source": [
    "print('Test loss:', score_cnn[0])\n",
    "print('Test accuracy:', score_cnn[1])"
   ]
  },
  {
   "cell_type": "code",
   "execution_count": 102,
   "metadata": {},
   "outputs": [
    {
     "data": {
      "text/plain": [
       "array([[2.8742869e-08, 2.6791795e-09, 4.5666856e-10, ..., 8.1516308e-04,\n",
       "        4.5552511e-06, 9.9913222e-01],\n",
       "       [9.9926037e-01, 9.3333528e-09, 2.6763440e-05, ..., 8.4886484e-14,\n",
       "        8.1817586e-07, 4.2761811e-11],\n",
       "       [7.8024137e-01, 4.4586393e-03, 3.8632520e-02, ..., 1.2519644e-04,\n",
       "        1.6927299e-03, 1.3229839e-04],\n",
       "       ...,\n",
       "       [1.8715409e-04, 1.5651131e-05, 1.2708691e-04, ..., 1.6370277e-10,\n",
       "        1.5653550e-05, 1.4285165e-10],\n",
       "       [9.2208606e-01, 1.7819990e-04, 4.0429551e-02, ..., 6.0285679e-06,\n",
       "        8.3442032e-04, 5.0519802e-06],\n",
       "       [9.3788030e-06, 2.0887347e-07, 2.9542814e-05, ..., 3.4993992e-04,\n",
       "        1.7330669e-04, 1.3431875e-05]], dtype=float32)"
      ]
     },
     "execution_count": 102,
     "metadata": {},
     "output_type": "execute_result"
    }
   ],
   "source": [
    "predictions_train_cnn = model2.predict(images_train1)\n",
    "predictions_train_cnn"
   ]
  },
  {
   "cell_type": "code",
   "execution_count": null,
   "metadata": {},
   "outputs": [],
   "source": []
  },
  {
   "cell_type": "code",
   "execution_count": null,
   "metadata": {},
   "outputs": [],
   "source": []
  },
  {
   "cell_type": "code",
   "execution_count": 103,
   "metadata": {},
   "outputs": [
    {
     "data": {
      "text/plain": [
       "array([[5.6639597e-06, 2.4980574e-07, 1.4710287e-05, ..., 3.1590700e-02,\n",
       "        2.1484604e-03, 9.5757151e-01],\n",
       "       [1.5429259e-04, 4.3534039e-09, 9.9499452e-01, ..., 1.8415093e-13,\n",
       "        1.1481682e-07, 5.9828086e-13],\n",
       "       [6.8336470e-07, 9.9999464e-01, 4.9726717e-10, ..., 3.2125382e-11,\n",
       "        2.5072001e-08, 3.6606449e-13],\n",
       "       ...,\n",
       "       [4.3574269e-03, 9.0914710e-07, 1.8748149e-03, ..., 2.9450946e-06,\n",
       "        9.9025643e-01, 8.5992006e-08],\n",
       "       [2.3012471e-07, 9.9992335e-01, 1.5914791e-08, ..., 3.1356018e-09,\n",
       "        9.4071467e-08, 1.9751312e-08],\n",
       "       [6.1025546e-04, 2.6478447e-05, 2.9478595e-03, ..., 6.7721039e-02,\n",
       "        2.8028650e-02, 4.5381527e-04]], dtype=float32)"
      ]
     },
     "execution_count": 103,
     "metadata": {},
     "output_type": "execute_result"
    }
   ],
   "source": [
    "predictions_test_cnn = model2.predict(images_test1)\n",
    "predictions_test_cnn"
   ]
  },
  {
   "cell_type": "code",
   "execution_count": 104,
   "metadata": {},
   "outputs": [
    {
     "data": {
      "text/plain": [
       "(10000, 10)"
      ]
     },
     "execution_count": 104,
     "metadata": {},
     "output_type": "execute_result"
    }
   ],
   "source": [
    "predictions_test_cnn.shape"
   ]
  },
  {
   "cell_type": "code",
   "execution_count": 105,
   "metadata": {},
   "outputs": [
    {
     "name": "stdout",
     "output_type": "stream",
     "text": [
      "[9 0 0 ... 3 0 5]\n",
      "[9 2 1 ... 8 1 5]\n"
     ]
    }
   ],
   "source": [
    "max_train_cnn = np.argmax(predictions_train_cnn, axis=1)\n",
    "print(max_train_cnn)\n",
    "\n",
    "max_test_cnn = np.argmax(predictions_test_cnn, axis=1)\n",
    "print(max_test_cnn)"
   ]
  },
  {
   "cell_type": "code",
   "execution_count": 106,
   "metadata": {},
   "outputs": [
    {
     "data": {
      "text/plain": [
       "array([[5477,    5,   78,  122,   16,    3,  266,    0,   33,    0],\n",
       "       [   7, 5897,    8,   71,    7,    1,    8,    0,    1,    0],\n",
       "       [  97,    1, 5096,   53,  507,    2,  229,    0,   15,    0],\n",
       "       [ 131,   35,   35, 5490,  211,    2,   86,    0,   10,    0],\n",
       "       [   7,   10,  271,  133, 5316,    1,  242,    0,   20,    0],\n",
       "       [   3,    0,    0,    3,    0, 5822,    1,  115,   12,   44],\n",
       "       [ 844,   10,  430,  128,  421,    1, 4118,    0,   47,    1],\n",
       "       [   0,    0,    0,    0,    0,   68,    0, 5763,   10,  159],\n",
       "       [  25,    2,   17,   18,   23,    9,   17,   18, 5870,    1],\n",
       "       [   0,    2,    0,    0,    0,   26,    0,  158,    6, 5808]],\n",
       "      dtype=int64)"
      ]
     },
     "execution_count": 106,
     "metadata": {},
     "output_type": "execute_result"
    }
   ],
   "source": [
    "cm_train_cnn =confusion_matrix(labels_train, max_train_cnn)\n",
    "cm_train_cnn"
   ]
  },
  {
   "cell_type": "code",
   "execution_count": 107,
   "metadata": {},
   "outputs": [
    {
     "data": {
      "text/plain": [
       "array([[889,   0,  16,  22,   7,   1,  56,   0,   9,   0],\n",
       "       [  2, 977,   1,  14,   2,   0,   2,   0,   2,   0],\n",
       "       [ 16,   2, 841,  10,  83,   0,  45,   0,   3,   0],\n",
       "       [ 21,   8,  11, 901,  38,   0,  16,   0,   5,   0],\n",
       "       [  2,   1,  54,  25, 870,   0,  46,   0,   2,   0],\n",
       "       [  0,   0,   0,   1,   0, 958,   0,  29,   1,  11],\n",
       "       [158,   2,  81,  28,  81,   0, 637,   0,  13,   0],\n",
       "       [  0,   0,   0,   0,   0,  18,   0, 950,   0,  32],\n",
       "       [  4,   1,   3,   6,   6,   2,   1,   6, 971,   0],\n",
       "       [  0,   0,   0,   0,   0,   6,   1,  37,   0, 956]], dtype=int64)"
      ]
     },
     "execution_count": 107,
     "metadata": {},
     "output_type": "execute_result"
    }
   ],
   "source": [
    "cm_test_cnn =confusion_matrix(labels_test, max_test_cnn)\n",
    "cm_test_cnn"
   ]
  },
  {
   "cell_type": "code",
   "execution_count": 108,
   "metadata": {},
   "outputs": [
    {
     "name": "stdout",
     "output_type": "stream",
     "text": [
      "accuracy_train_cnn = 0.91095\n",
      "F1score_train_cnn = 0.9100150781879408\n",
      "recal_train_cnn = 0.91095\n",
      "precision_train-cnn = 0.9111005713119487\n"
     ]
    }
   ],
   "source": [
    "accuracy_train_cnn = accuracy_score(labels_train,max_train_cnn)\n",
    "f1score_train_cnn = f1_score(labels_train,max_train_cnn,average='weighted')\n",
    "recall_train_cnn = recall_score(labels_train,max_train_cnn,average='weighted')\n",
    "precision_train_cnn= precision_score(labels_train,max_train_cnn,average='weighted')\n",
    "\n",
    "print(\"accuracy_train_cnn =\" , accuracy_train_cnn)\n",
    "print(\"F1score_train_cnn =\" , f1score_train_cnn)\n",
    "print(\"recal_train_cnn =\" ,recall_train_cnn)\n",
    "print(\"precision_train-cnn =\", precision_train_cnn)"
   ]
  },
  {
   "cell_type": "code",
   "execution_count": 109,
   "metadata": {},
   "outputs": [
    {
     "name": "stdout",
     "output_type": "stream",
     "text": [
      "accuracy_test_cnn = 0.895\n",
      "F1score_test_cnn = 0.8936663038749095\n",
      "recal_test_cnn = 0.895\n",
      "precision_test_cnn = 0.8946827166057683\n"
     ]
    }
   ],
   "source": [
    "accuracy_test_cnn = accuracy_score(labels_test,max_test_cnn)\n",
    "f1score_test_cnn = f1_score(labels_test,max_test_cnn,average='weighted')\n",
    "recall_test_cnn = recall_score(labels_test,max_test_cnn,average='weighted')\n",
    "precision_test_cnn = precision_score(labels_test,max_test_cnn,average='weighted')\n",
    "\n",
    "print(\"accuracy_test_cnn =\" , accuracy_test_cnn)\n",
    "print(\"F1score_test_cnn =\" , f1score_test_cnn)\n",
    "print(\"recal_test_cnn =\" ,recall_test_cnn)\n",
    "print(\"precision_test_cnn =\", precision_test_cnn)"
   ]
  },
  {
   "cell_type": "code",
   "execution_count": 132,
   "metadata": {},
   "outputs": [
    {
     "data": {
      "image/png": "[encoded data removed]",
      "text/plain": [
       "<Figure size 432x288 with 1 Axes>"
      ]
     },
     "metadata": {
      "needs_background": "light"
     },
     "output_type": "display_data"
    }
   ],
   "source": [
    "import matplotlib.pyplot as plt\n",
    "\n",
    "plt.plot(history_test_cnn.history['loss'])\n",
    "\n",
    "plt.title('Epochs vs Losses ')\n",
    "plt.ylabel('losses')\n",
    "plt.xlabel('Epoch')\n",
    "\n",
    "plt.show()"
   ]
  },
  {
   "cell_type": "code",
   "execution_count": null,
   "metadata": {},
   "outputs": [],
   "source": []
  },
  {
   "cell_type": "code",
   "execution_count": 133,
   "metadata": {},
   "outputs": [
    {
     "data": {
      "image/png": "[encoded data removed]",
      "text/plain": [
       "<Figure size 432x288 with 1 Axes>"
      ]
     },
     "metadata": {
      "needs_background": "light"
     },
     "output_type": "display_data"
    }
   ],
   "source": [
    "plt.plot(history_test_cnn.history['loss'])\n",
    "plt.plot(cbt_train_cnn.times)\n",
    "plt.title('Epochs and Time vs Losses ')\n",
    "plt.ylabel('losses and Time')\n",
    "plt.xlabel('Epoch')\n",
    "\n",
    "plt.show()"
   ]
  },
  {
   "cell_type": "code",
   "execution_count": null,
   "metadata": {},
   "outputs": [],
   "source": []
  },
  {
   "cell_type": "code",
   "execution_count": 110,
   "metadata": {},
   "outputs": [
    {
     "data": {
      "text/plain": [
       "array([[0., 0., 0., ..., 0., 0., 0.],\n",
       "       [0., 0., 0., ..., 0., 0., 0.],\n",
       "       [0., 0., 0., ..., 0., 0., 0.],\n",
       "       ...,\n",
       "       [0., 0., 0., ..., 0., 0., 0.],\n",
       "       [0., 0., 0., ..., 0., 0., 0.],\n",
       "       [0., 0., 0., ..., 0., 0., 0.]], dtype=float32)"
      ]
     },
     "execution_count": 110,
     "metadata": {},
     "output_type": "execute_result"
    }
   ],
   "source": [
    "max_train_cnn = predictions_train_cnn.max(axis=1)\n",
    "size_train_cnn = len(predictions_train_cnn)\n",
    "\n",
    "for i in range(size_train_cnn):\n",
    "     predictions_train_cnn[i,][predictions_train_cnn[i,] == max_train_cnn[i]] = 1\n",
    "     predictions_train_cnn[i,][predictions_train_cnn[i,] != max_train_cnn[i]] = 0\n",
    "predictions_train_cnn"
   ]
  },
  {
   "cell_type": "code",
   "execution_count": 111,
   "metadata": {},
   "outputs": [
    {
     "data": {
      "text/plain": [
       "array([[0., 0., 0., ..., 0., 0., 0.],\n",
       "       [0., 0., 0., ..., 0., 0., 0.],\n",
       "       [0., 0., 0., ..., 0., 0., 0.],\n",
       "       ...,\n",
       "       [0., 0., 0., ..., 0., 0., 0.],\n",
       "       [0., 0., 0., ..., 0., 0., 0.],\n",
       "       [0., 0., 0., ..., 0., 0., 0.]], dtype=float32)"
      ]
     },
     "execution_count": 111,
     "metadata": {},
     "output_type": "execute_result"
    }
   ],
   "source": [
    "max_test_cnn = predictions_test_cnn.max(axis=1)\n",
    "size_test_cnn = len(predictions_test_cnn)\n",
    "\n",
    "for i in range(size_test_cnn):\n",
    "     predictions_test_cnn[i,][predictions_test_cnn[i,] == max_test_cnn[i]] = 1\n",
    "     predictions_test_cnn[i,][predictions_test_cnn[i,] != max_test_cnn[i]] = 0\n",
    "predictions_test_cnn"
   ]
  },
  {
   "cell_type": "code",
   "execution_count": null,
   "metadata": {},
   "outputs": [],
   "source": []
  },
  {
   "cell_type": "code",
   "execution_count": 112,
   "metadata": {},
   "outputs": [
    {
     "name": "stdout",
     "output_type": "stream",
     "text": [
      "accuracy_train_cnn_0 = 0.9\n",
      "F1score_train_cnn_0 = 0.8526315789473684\n",
      "recal_train_cnn_0 = 0.9\n",
      "precision_train_cnn_0 = 0.81\n"
     ]
    },
    {
     "name": "stderr",
     "output_type": "stream",
     "text": [
      "C:\\Users\\kusha\\Anaconda3\\lib\\site-packages\\sklearn\\metrics\\classification.py:1437: UndefinedMetricWarning: F-score is ill-defined and being set to 0.0 in labels with no predicted samples.\n",
      "  'precision', 'predicted', average, warn_for)\n",
      "C:\\Users\\kusha\\Anaconda3\\lib\\site-packages\\sklearn\\metrics\\classification.py:1437: UndefinedMetricWarning: Precision is ill-defined and being set to 0.0 in labels with no predicted samples.\n",
      "  'precision', 'predicted', average, warn_for)\n"
     ]
    }
   ],
   "source": [
    "accuracy_train_cnn_0 = accuracy_score(one_hot_labels_train[:,0],predictions_train_cnn[:,0])\n",
    "f1score_train_cnn_0 = f1_score(one_hot_labels_train[:,0],predictions_train_cnn[:,0],average='weighted')\n",
    "recall_train_cnn_0 = recall_score(one_hot_labels_train[:,0],predictions_train_cnn[:,0],average='weighted')\n",
    "precision_train_cnn_0 = precision_score(one_hot_labels_train[:,0],predictions_train_cnn[:,0],average='weighted')\n",
    "\n",
    "print(\"accuracy_train_cnn_0 =\" , accuracy_train_cnn_0)\n",
    "print(\"F1score_train_cnn_0 =\" , f1score_train_cnn_0)\n",
    "print(\"recal_train_cnn_0 =\" ,recall_train_cnn_0)\n",
    "print(\"precision_train_cnn_0 =\", precision_train_cnn_0)"
   ]
  },
  {
   "cell_type": "code",
   "execution_count": 113,
   "metadata": {},
   "outputs": [
    {
     "name": "stdout",
     "output_type": "stream",
     "text": [
      "accuracy_train_cnn_1 = 0.9\n",
      "F1score_train_cnn_1 = 0.8526315789473684\n",
      "recal_train_cnn_1 = 0.9\n",
      "precision_train_cnn_1 = 0.81\n"
     ]
    }
   ],
   "source": [
    "accuracy_train_cnn_1 = accuracy_score(one_hot_labels_train[:,1],predictions_train_cnn[:,1])\n",
    "f1score_train_cnn_1 = f1_score(one_hot_labels_train[:,1],predictions_train_cnn[:,1],average='weighted')\n",
    "recall_train_cnn_1 = recall_score(one_hot_labels_train[:,1],predictions_train_cnn[:,1],average='weighted')\n",
    "precision_train_cnn_1 = precision_score(one_hot_labels_train[:,1],predictions_train_cnn[:,1],average='weighted')\n",
    "\n",
    "print(\"accuracy_train_cnn_1 =\" , accuracy_train_cnn_1)\n",
    "print(\"F1score_train_cnn_1 =\" , f1score_train_cnn_1)\n",
    "print(\"recal_train_cnn_1 =\" ,recall_train_cnn_1)\n",
    "print(\"precision_train_cnn_1 =\", precision_train_cnn_1)"
   ]
  },
  {
   "cell_type": "code",
   "execution_count": 114,
   "metadata": {},
   "outputs": [
    {
     "name": "stdout",
     "output_type": "stream",
     "text": [
      "accuracy_train_cnn_2 = 0.9\n",
      "F1score_train_cnn0_2 = 0.8526315789473684\n",
      "recal_train_cnn_2 = 0.9\n",
      "precision_train_cnn_2 = 0.81\n"
     ]
    }
   ],
   "source": [
    "accuracy_train_cnn_2 = accuracy_score(one_hot_labels_train[:,2],predictions_train_cnn[:,2])\n",
    "f1score_train_cnn_2 = f1_score(one_hot_labels_train[:,2],predictions_train_cnn[:,2],average='weighted')\n",
    "recall_train_cnn_2 = recall_score(one_hot_labels_train[:,2],predictions_train_cnn[:,2],average='weighted')\n",
    "precision_train_cnn_2 = precision_score(one_hot_labels_train[:,2],predictions_train_cnn[:,2],average='weighted')\n",
    "\n",
    "print(\"accuracy_train_cnn_2 =\" , accuracy_train_cnn_2)\n",
    "print(\"F1score_train_cnn0_2 =\" , f1score_train_cnn_2)\n",
    "print(\"recal_train_cnn_2 =\" ,recall_train_cnn_2)\n",
    "print(\"precision_train_cnn_2 =\", precision_train_cnn_2)"
   ]
  },
  {
   "cell_type": "code",
   "execution_count": 115,
   "metadata": {},
   "outputs": [
    {
     "name": "stdout",
     "output_type": "stream",
     "text": [
      "accuracy_train_cnn_3 = 0.9\n",
      "F1score_train_cnn_3 = 0.8526315789473684\n",
      "recal_train_cnn_3 = 0.9\n",
      "precision_train_cnn_3 = 0.81\n"
     ]
    }
   ],
   "source": [
    "accuracy_train_cnn_3 = accuracy_score(one_hot_labels_train[:,3],predictions_train_cnn[:,3])\n",
    "f1score_train_cnn_3 = f1_score(one_hot_labels_train[:,3],predictions_train_cnn[:,3],average='weighted')\n",
    "recall_train_cnn_3 = recall_score(one_hot_labels_train[:,3],predictions_train_cnn[:,3],average='weighted')\n",
    "precision_train_cnn_3 = precision_score(one_hot_labels_train[:,3],predictions_train_cnn[:,3],average='weighted')\n",
    "\n",
    "print(\"accuracy_train_cnn_3 =\" , accuracy_train_cnn_3)\n",
    "print(\"F1score_train_cnn_3 =\" , f1score_train_cnn_3)\n",
    "print(\"recal_train_cnn_3 =\" ,recall_train_cnn_3)\n",
    "print(\"precision_train_cnn_3 =\", precision_train_cnn_3)"
   ]
  },
  {
   "cell_type": "code",
   "execution_count": 116,
   "metadata": {},
   "outputs": [
    {
     "name": "stdout",
     "output_type": "stream",
     "text": [
      "accuracy_train_cnn_4 = 0.9\n",
      "F1score_train_cnn_4 = 0.8526315789473684\n",
      "recal_train_cnn_4 = 0.9\n",
      "precision_train_cnn_4 = 0.81\n"
     ]
    }
   ],
   "source": [
    "accuracy_train_cnn_4 = accuracy_score(one_hot_labels_train[:,4],predictions_train_cnn[:,4])\n",
    "f1score_train_cnn_4 = f1_score(one_hot_labels_train[:,4],predictions_train_cnn[:,4],average='weighted')\n",
    "recall_train_cnn_4 = recall_score(one_hot_labels_train[:,4],predictions_train_cnn[:,4],average='weighted')\n",
    "precision_train_cnn_4 = precision_score(one_hot_labels_train[:,4],predictions_train_cnn[:,4],average='weighted')\n",
    "\n",
    "print(\"accuracy_train_cnn_4 =\" , accuracy_train_cnn_4)\n",
    "print(\"F1score_train_cnn_4 =\" , f1score_train_cnn_4)\n",
    "print(\"recal_train_cnn_4 =\" ,recall_train_cnn_4)\n",
    "print(\"precision_train_cnn_4 =\", precision_train_cnn_4)"
   ]
  },
  {
   "cell_type": "code",
   "execution_count": 117,
   "metadata": {},
   "outputs": [
    {
     "name": "stdout",
     "output_type": "stream",
     "text": [
      "accuracy_train_cnn_5 = 0.9000833333333333\n",
      "F1score_train_cnn_5 = 0.8528355046029269\n",
      "recal_train_cnn_5 = 0.9000833333333333\n",
      "precision_train_cnn_5 = 0.9100675056254688\n"
     ]
    }
   ],
   "source": [
    "accuracy_train_cnn_5 = accuracy_score(one_hot_labels_train[:,5],predictions_train_cnn[:,5])\n",
    "f1score_train_cnn_5 = f1_score(one_hot_labels_train[:,5],predictions_train_cnn[:,5],average='weighted')\n",
    "recall_train_cnn_5 = recall_score(one_hot_labels_train[:,5],predictions_train_cnn[:,5],average='weighted')\n",
    "precision_train_cnn_5 = precision_score(one_hot_labels_train[:,5],predictions_train_cnn[:,5],average='weighted')\n",
    "\n",
    "print(\"accuracy_train_cnn_5 =\" , accuracy_train_cnn_5)\n",
    "print(\"F1score_train_cnn_5 =\" , f1score_train_cnn_5)\n",
    "print(\"recal_train_cnn_5 =\" ,recall_train_cnn_5)\n",
    "print(\"precision_train_cnn_5 =\", precision_train_cnn_5)"
   ]
  },
  {
   "cell_type": "code",
   "execution_count": 118,
   "metadata": {},
   "outputs": [
    {
     "name": "stdout",
     "output_type": "stream",
     "text": [
      "accuracy_train_cnn_6 = 0.9\n",
      "F1score_train_cnn_6 = 0.8526315789473684\n",
      "recal_train_cnn_6 = 0.9\n",
      "precision_train_cnn_6 = 0.81\n"
     ]
    }
   ],
   "source": [
    "accuracy_train_cnn_6 = accuracy_score(one_hot_labels_train[:,6],predictions_train_cnn[:,6])\n",
    "f1score_train_cnn_6 = f1_score(one_hot_labels_train[:,6],predictions_train_cnn[:,6],average='weighted')\n",
    "recall_train_cnn_6 = recall_score(one_hot_labels_train[:,6],predictions_train_cnn[:,6],average='weighted')\n",
    "precision_train_cnn_6 = precision_score(one_hot_labels_train[:,6],predictions_train_cnn[:,6],average='weighted')\n",
    "\n",
    "print(\"accuracy_train_cnn_6 =\" , accuracy_train_cnn_6)\n",
    "print(\"F1score_train_cnn_6 =\" , f1score_train_cnn_6)\n",
    "print(\"recal_train_cnn_6 =\" ,recall_train_cnn_6)\n",
    "print(\"precision_train_cnn_6 =\", precision_train_cnn_6)"
   ]
  },
  {
   "cell_type": "code",
   "execution_count": 119,
   "metadata": {},
   "outputs": [
    {
     "name": "stdout",
     "output_type": "stream",
     "text": [
      "accuracy_train_cnn_7 = 0.9\n",
      "F1score_train_cnn_7 = 0.8526315789473684\n",
      "recal_train_cnn_7 = 0.9\n",
      "precision_train_cnn_7 = 0.81\n"
     ]
    }
   ],
   "source": [
    "accuracy_train_cnn_7 = accuracy_score(one_hot_labels_train[:,7],predictions_train_cnn[:,7])\n",
    "f1score_train_cnn_7 = f1_score(one_hot_labels_train[:,7],predictions_train_cnn[:,7],average='weighted')\n",
    "recall_train_cnn_7 = recall_score(one_hot_labels_train[:,7],predictions_train_cnn[:,7],average='weighted')\n",
    "precision_train_cnn_7 = precision_score(one_hot_labels_train[:,7],predictions_train_cnn[:,7],average='weighted')\n",
    "\n",
    "print(\"accuracy_train_cnn_7 =\" , accuracy_train_cnn_7)\n",
    "print(\"F1score_train_cnn_7 =\" , f1score_train_cnn_7)\n",
    "print(\"recal_train_cnn_7 =\" ,recall_train_cnn_7)\n",
    "print(\"precision_train_cnn_7 =\", precision_train_cnn_7)"
   ]
  },
  {
   "cell_type": "code",
   "execution_count": 120,
   "metadata": {},
   "outputs": [
    {
     "name": "stdout",
     "output_type": "stream",
     "text": [
      "accuracy_train_cnn_8 = 0.9\n",
      "F1score_train_cnn_8 = 0.8526315789473684\n",
      "recal_train_cnn_8 = 0.9\n",
      "precision_train_cnn_8 = 0.81\n"
     ]
    }
   ],
   "source": [
    "accuracy_train_cnn_8 = accuracy_score(one_hot_labels_train[:,8],predictions_train_cnn[:,8])\n",
    "f1score_train_cnn_8 = f1_score(one_hot_labels_train[:,8],predictions_train_cnn[:,8],average='weighted')\n",
    "recall_train_cnn_8 = recall_score(one_hot_labels_train[:,8],predictions_train_cnn[:,8],average='weighted')\n",
    "precision_train_cnn_8 = precision_score(one_hot_labels_train[:,8],predictions_train_cnn[:,8],average='weighted')\n",
    "\n",
    "print(\"accuracy_train_cnn_8 =\" , accuracy_train_cnn_8)\n",
    "print(\"F1score_train_cnn_8 =\" , f1score_train_cnn_8)\n",
    "print(\"recal_train_cnn_8 =\" ,recall_train_cnn_8)\n",
    "print(\"precision_train_cnn_8 =\", precision_train_cnn_8)"
   ]
  },
  {
   "cell_type": "code",
   "execution_count": 121,
   "metadata": {},
   "outputs": [
    {
     "name": "stdout",
     "output_type": "stream",
     "text": [
      "accuracy_train_cnn_9 = 0.9\n",
      "F1score_train_cnn_9 = 0.8526315789473684\n",
      "recal_train_cnn_9 = 0.9\n",
      "precision_train_cnn_9 = 0.81\n"
     ]
    }
   ],
   "source": [
    "accuracy_train_cnn_9 = accuracy_score(one_hot_labels_train[:,9],predictions_train_cnn[:,9])\n",
    "f1score_train_cnn_9= f1_score(one_hot_labels_train[:,9],predictions_train_cnn[:,9],average='weighted')\n",
    "recall_train_cnn_9 = recall_score(one_hot_labels_train[:,9],predictions_train_cnn[:,9],average='weighted')\n",
    "precision_train_cnn_9 = precision_score(one_hot_labels_train[:,9],predictions_train_cnn[:,9],average='weighted')\n",
    "\n",
    "print(\"accuracy_train_cnn_9 =\" , accuracy_train_cnn_9)\n",
    "print(\"F1score_train_cnn_9 =\" , f1score_train_cnn_9)\n",
    "print(\"recal_train_cnn_9 =\" ,recall_train_cnn_9)\n",
    "print(\"precision_train_cnn_9 =\", precision_train_cnn_9)"
   ]
  },
  {
   "cell_type": "code",
   "execution_count": null,
   "metadata": {},
   "outputs": [],
   "source": []
  },
  {
   "cell_type": "code",
   "execution_count": 122,
   "metadata": {},
   "outputs": [
    {
     "name": "stdout",
     "output_type": "stream",
     "text": [
      "accuracy_test_cnn_0 = 0.9\n",
      "F1score_test_cnn_0 = 0.8526315789473685\n",
      "recal_test_cnn_0 = 0.9\n",
      "precision_test_cnn_0 = 0.81\n"
     ]
    }
   ],
   "source": [
    "accuracy_test_cnn_0 = accuracy_score(one_hot_labels_test[:,0],predictions_test_cnn[:,0])\n",
    "f1score_test_cnn_0 = f1_score(one_hot_labels_test[:,0],predictions_test_cnn[:,0],average='weighted')\n",
    "recall_test_cnn_0 = recall_score(one_hot_labels_test[:,0],predictions_test_cnn[:,0],average='weighted')\n",
    "precision_test_cnn_0 = precision_score(one_hot_labels_test[:,0],predictions_test_cnn[:,0],average='weighted')\n",
    "\n",
    "print(\"accuracy_test_cnn_0 =\" , accuracy_test_cnn_0)\n",
    "print(\"F1score_test_cnn_0 =\" , f1score_test_cnn_0)\n",
    "print(\"recal_test_cnn_0 =\" ,recall_test_cnn_0)\n",
    "print(\"precision_test_cnn_0 =\", precision_test_cnn_0)"
   ]
  },
  {
   "cell_type": "code",
   "execution_count": 123,
   "metadata": {},
   "outputs": [
    {
     "name": "stdout",
     "output_type": "stream",
     "text": [
      "accuracy_test_cnn_1 = 0.9\n",
      "F1score_test_cnn_1 = 0.8526315789473685\n",
      "recal_test_cnn_1 = 0.9\n",
      "precision_test_cnn_1 = 0.81\n"
     ]
    }
   ],
   "source": [
    "accuracy_test_cnn_1 = accuracy_score(one_hot_labels_test[:,1],predictions_test_cnn[:,1])\n",
    "f1score_test_cnn_1 = f1_score(one_hot_labels_test[:,1],predictions_test_cnn[:,1],average='weighted')\n",
    "recall_test_cnn_1 = recall_score(one_hot_labels_test[:,1],predictions_test_cnn[:,1],average='weighted')\n",
    "precision_test_cnn_1 = precision_score(one_hot_labels_test[:,1],predictions_test_cnn[:,1],average='weighted')\n",
    "\n",
    "print(\"accuracy_test_cnn_1 =\" , accuracy_test_cnn_1)\n",
    "print(\"F1score_test_cnn_1 =\" , f1score_test_cnn_1)\n",
    "print(\"recal_test_cnn_1 =\" ,recall_test_cnn_1)\n",
    "print(\"precision_test_cnn_1 =\", precision_test_cnn_1)"
   ]
  },
  {
   "cell_type": "code",
   "execution_count": 124,
   "metadata": {},
   "outputs": [
    {
     "name": "stdout",
     "output_type": "stream",
     "text": [
      "accuracy_test_cnn_2 = 0.9\n",
      "F1score_test_cnn_2 = 0.8526315789473685\n",
      "recal_test_cnn_2 = 0.9\n",
      "precision_test_cnn_2 = 0.81\n"
     ]
    }
   ],
   "source": [
    "accuracy_test_cnn_2 = accuracy_score(one_hot_labels_test[:,2],predictions_test_cnn[:,2])\n",
    "f1score_test_cnn_2 = f1_score(one_hot_labels_test[:,2],predictions_test_cnn[:,2],average='weighted')\n",
    "recall_test_cnn_2 = recall_score(one_hot_labels_test[:,2],predictions_test_cnn[:,2],average='weighted')\n",
    "precision_test_cnn_2 = precision_score(one_hot_labels_test[:,2],predictions_test_cnn[:,2],average='weighted')\n",
    "\n",
    "print(\"accuracy_test_cnn_2 =\" , accuracy_test_cnn_2)\n",
    "print(\"F1score_test_cnn_2 =\" , f1score_test_cnn_2)\n",
    "print(\"recal_test_cnn_2 =\" ,recall_test_cnn_2)\n",
    "print(\"precision_test_cnn_2 =\", precision_test_cnn_2)"
   ]
  },
  {
   "cell_type": "code",
   "execution_count": 125,
   "metadata": {},
   "outputs": [
    {
     "name": "stdout",
     "output_type": "stream",
     "text": [
      "accuracy_test_cnn_3 = 0.9\n",
      "F1score_test_cnn_3 = 0.8526315789473685\n",
      "recal_test_cnn_3= 0.9\n",
      "precision_test_cnn_3 = 0.81\n"
     ]
    }
   ],
   "source": [
    "accuracy_test_cnn_3 = accuracy_score(one_hot_labels_test[:,3],predictions_test_cnn[:,3])\n",
    "f1score_test_cnn_3 = f1_score(one_hot_labels_test[:,3],predictions_test_cnn[:,3],average='weighted')\n",
    "recall_test_cnn_3 = recall_score(one_hot_labels_test[:,3],predictions_test_cnn[:,3],average='weighted')\n",
    "precision_test_cnn_3 = precision_score(one_hot_labels_test[:,3],predictions_test_cnn[:,3],average='weighted')\n",
    "\n",
    "print(\"accuracy_test_cnn_3 =\" , accuracy_test_cnn_3)\n",
    "print(\"F1score_test_cnn_3 =\" , f1score_test_cnn_3)\n",
    "print(\"recal_test_cnn_3=\" ,recall_test_cnn_3)\n",
    "print(\"precision_test_cnn_3 =\", precision_test_cnn_3)"
   ]
  },
  {
   "cell_type": "code",
   "execution_count": 126,
   "metadata": {},
   "outputs": [
    {
     "name": "stdout",
     "output_type": "stream",
     "text": [
      "accuracy_test_cnn_4 = 0.9\n",
      "F1score_test_cnn_4 = 0.8526315789473685\n",
      "recal_test_cnn_4 = 0.9\n",
      "precision_test_cnn_4 = 0.81\n"
     ]
    }
   ],
   "source": [
    "accuracy_test_cnn_4 = accuracy_score(one_hot_labels_test[:,4],predictions_test_cnn[:,4])\n",
    "f1score_test_cnn_4 = f1_score(one_hot_labels_test[:,4],predictions_test_cnn[:,4],average='weighted')\n",
    "recall_test_cnn_4 = recall_score(one_hot_labels_test[:,4],predictions_test_cnn[:,4],average='weighted')\n",
    "precision_test_cnn_4 = precision_score(one_hot_labels_test[:,4],predictions_test_cnn[:,4],average='weighted')\n",
    "\n",
    "print(\"accuracy_test_cnn_4 =\" , accuracy_test_cnn_4)\n",
    "print(\"F1score_test_cnn_4 =\" , f1score_test_cnn_4)\n",
    "print(\"recal_test_cnn_4 =\" ,recall_test_cnn_4)\n",
    "print(\"precision_test_cnn_4 =\", precision_test_cnn_4)"
   ]
  },
  {
   "cell_type": "code",
   "execution_count": 127,
   "metadata": {},
   "outputs": [
    {
     "name": "stdout",
     "output_type": "stream",
     "text": [
      "accuracy_test_cnn_5 = 0.9\n",
      "F1score_test_cnn_5 = 0.8526315789473685\n",
      "recal_test_cnn_5 = 0.9\n",
      "precision_test_cnn_5 = 0.81\n"
     ]
    }
   ],
   "source": [
    "accuracy_test_cnn_5 = accuracy_score(one_hot_labels_test[:,5],predictions_test_cnn[:,5])\n",
    "f1score_test_cnn_5 = f1_score(one_hot_labels_test[:,5],predictions_test_cnn[:,5],average='weighted')\n",
    "recall_test_cnn_5 = recall_score(one_hot_labels_test[:,5],predictions_test_cnn[:,5],average='weighted')\n",
    "precision_test_cnn_5 = precision_score(one_hot_labels_test[:,5],predictions_test_cnn[:,5],average='weighted')\n",
    "\n",
    "print(\"accuracy_test_cnn_5 =\" , accuracy_test_cnn_5)\n",
    "print(\"F1score_test_cnn_5 =\" , f1score_test_cnn_5)\n",
    "print(\"recal_test_cnn_5 =\" ,recall_test_cnn_5)\n",
    "print(\"precision_test_cnn_5 =\", precision_test_cnn_5)"
   ]
  },
  {
   "cell_type": "code",
   "execution_count": 128,
   "metadata": {},
   "outputs": [
    {
     "name": "stdout",
     "output_type": "stream",
     "text": [
      "accuracy_test_cnn_6 = 0.9\n",
      "F1score_test_cnn_6 = 0.8526315789473685\n",
      "recal_test_cnn_6 = 0.9\n",
      "precision_test_cnn_6 = 0.81\n"
     ]
    }
   ],
   "source": [
    "accuracy_test_cnn_6 = accuracy_score(one_hot_labels_test[:,6],predictions_test_cnn[:,6])\n",
    "f1score_test_cnn_6 = f1_score(one_hot_labels_test[:,6],predictions_test_cnn[:,6],average='weighted')\n",
    "recall_test_cnn_6 = recall_score(one_hot_labels_test[:,6],predictions_test_cnn[:,6],average='weighted')\n",
    "precision_test_cnn_6 = precision_score(one_hot_labels_test[:,6],predictions_test_cnn[:,6],average='weighted')\n",
    "\n",
    "print(\"accuracy_test_cnn_6 =\" , accuracy_test_cnn_6)\n",
    "print(\"F1score_test_cnn_6 =\" , f1score_test_cnn_6)\n",
    "print(\"recal_test_cnn_6 =\" ,recall_test_cnn_6)\n",
    "print(\"precision_test_cnn_6 =\", precision_test_cnn_6)"
   ]
  },
  {
   "cell_type": "code",
   "execution_count": 129,
   "metadata": {},
   "outputs": [
    {
     "name": "stdout",
     "output_type": "stream",
     "text": [
      "accuracy_test_cnn_7 = 0.9\n",
      "F1score_test_cnn_7 = 0.8526315789473685\n",
      "recal_test_cnn_7 = 0.9\n",
      "precision_test_cnn_7 = 0.81\n"
     ]
    }
   ],
   "source": [
    "accuracy_test_cnn_7 = accuracy_score(one_hot_labels_test[:,7],predictions_test_cnn[:,7])\n",
    "f1score_test_cnn_7 = f1_score(one_hot_labels_test[:,7],predictions_test_cnn[:,7],average='weighted')\n",
    "recall_test_cnn_7 = recall_score(one_hot_labels_test[:,7],predictions_test_cnn[:,7],average='weighted')\n",
    "precision_test_cnn_7 = precision_score(one_hot_labels_test[:,7],predictions_test_cnn[:,7],average='weighted')\n",
    "\n",
    "print(\"accuracy_test_cnn_7 =\" , accuracy_test_cnn_7)\n",
    "print(\"F1score_test_cnn_7 =\" , f1score_test_cnn_7)\n",
    "print(\"recal_test_cnn_7 =\" ,recall_test_cnn_7)\n",
    "print(\"precision_test_cnn_7 =\", precision_test_cnn_7)"
   ]
  },
  {
   "cell_type": "code",
   "execution_count": 130,
   "metadata": {},
   "outputs": [
    {
     "name": "stdout",
     "output_type": "stream",
     "text": [
      "accuracy_test_cnn_8 = 0.9\n",
      "F1score_test_cnn_8 = 0.8526315789473685\n",
      "recal_test_cnn_8 = 0.9\n",
      "precision_test_cnn_8 = 0.81\n"
     ]
    }
   ],
   "source": [
    "accuracy_test_cnn_8 = accuracy_score(one_hot_labels_test[:,8],predictions_test_cnn[:,8])\n",
    "f1score_test_cnn_8 = f1_score(one_hot_labels_test[:,8],predictions_test_cnn[:,8],average='weighted')\n",
    "recall_test_cnn_8 = recall_score(one_hot_labels_test[:,8],predictions_test_cnn[:,8],average='weighted')\n",
    "precision_test_cnn_8 = precision_score(one_hot_labels_test[:,8],predictions_test_cnn[:,8],average='weighted')\n",
    "\n",
    "print(\"accuracy_test_cnn_8 =\" , accuracy_test_cnn_8)\n",
    "print(\"F1score_test_cnn_8 =\" , f1score_test_cnn_8)\n",
    "print(\"recal_test_cnn_8 =\" ,recall_test_cnn_8)\n",
    "print(\"precision_test_cnn_8 =\", precision_test_cnn_8)"
   ]
  },
  {
   "cell_type": "code",
   "execution_count": 131,
   "metadata": {},
   "outputs": [
    {
     "name": "stdout",
     "output_type": "stream",
     "text": [
      "accuracy_test_cnn_9 = 0.9\n",
      "F1score_test_cnn_9 = 0.8526315789473685\n",
      "recal_test_cnn_9 = 0.9\n",
      "precision_test_cnn_9 = 0.81\n"
     ]
    }
   ],
   "source": [
    "accuracy_test_cnn_9 = accuracy_score(one_hot_labels_test[:,9],predictions_test_cnn[:,9])\n",
    "f1score_test_cnn_9 = f1_score(one_hot_labels_test[:,9],predictions_test_cnn[:,9],average='weighted')\n",
    "recall_test_cnn_9 = recall_score(one_hot_labels_test[:,9],predictions_test_cnn[:,9],average='weighted')\n",
    "precision_test_cnn_9 = precision_score(one_hot_labels_test[:,9],predictions_test_cnn[:,9],average='weighted')\n",
    "\n",
    "print(\"accuracy_test_cnn_9 =\" , accuracy_test_cnn_9)\n",
    "print(\"F1score_test_cnn_9 =\" , f1score_test_cnn_9)\n",
    "print(\"recal_test_cnn_9 =\" ,recall_test_cnn_9)\n",
    "print(\"precision_test_cnn_9 =\", precision_test_cnn_9)"
   ]
  },
  {
   "cell_type": "markdown",
   "metadata": {},
   "source": [
    "# (Bonus, 5 pts possible) Task 3.2: Repeat Task 3.1 with Keras"
   ]
  },
  {
   "cell_type": "code",
   "execution_count": 88,
   "metadata": {},
   "outputs": [],
   "source": [
    "model3 = Sequential()\n",
    "model3.add(Conv2D(48, kernel_size=(3, 3), strides=(1, 1),\n",
    "                 activation='relu',padding ='same',\n",
    "                input_shape = (28,28,1)))\n",
    "model3.add(Conv2D(96 , kernel_size=(3,3), strides=(1, 1),activation ='relu'))\n",
    "model3.add(MaxPooling2D(pool_size=(2, 2)))\n",
    "model3.add(Flatten())\n",
    "model3.add(Dense(100, activation='relu'))\n",
    "model3.add(Dense(10, activation='softmax'))"
   ]
  },
  {
   "cell_type": "code",
   "execution_count": 93,
   "metadata": {},
   "outputs": [],
   "source": [
    "model3.compile(loss=keras.losses.categorical_crossentropy,\n",
    "              optimizer=keras.optimizers.sgd(),\n",
    "              metrics=['accuracy'])\n"
   ]
  },
  {
   "cell_type": "code",
   "execution_count": null,
   "metadata": {},
   "outputs": [],
   "source": []
  },
  {
   "cell_type": "code",
   "execution_count": 94,
   "metadata": {},
   "outputs": [],
   "source": [
    "cbt_train_anoothercnn = TimeHistory()"
   ]
  },
  {
   "cell_type": "code",
   "execution_count": 95,
   "metadata": {},
   "outputs": [],
   "source": [
    "cbt_train_anothercnn = TimeHistory()"
   ]
  },
  {
   "cell_type": "code",
   "execution_count": 134,
   "metadata": {
    "scrolled": true
   },
   "outputs": [
    {
     "name": "stdout",
     "output_type": "stream",
     "text": [
      "Epoch 1/50\n",
      "60000/60000 [==============================] - 172s 3ms/step - loss: 1.0512 - acc: 0.6473\n",
      "Epoch 2/50\n",
      "60000/60000 [==============================] - 181s 3ms/step - loss: 0.6373 - acc: 0.7685\n",
      "Epoch 3/50\n",
      "60000/60000 [==============================] - 181s 3ms/step - loss: 0.5582 - acc: 0.7977\n",
      "Epoch 4/50\n",
      "60000/60000 [==============================] - 781s 13ms/step - loss: 0.5165 - acc: 0.8125\n",
      "Epoch 5/50\n",
      "60000/60000 [==============================] - 171s 3ms/step - loss: 0.4872 - acc: 0.8253\n",
      "Epoch 6/50\n",
      "60000/60000 [==============================] - 168s 3ms/step - loss: 0.4620 - acc: 0.8359\n",
      "Epoch 7/50\n",
      "60000/60000 [==============================] - 168s 3ms/step - loss: 0.4468 - acc: 0.8398\n",
      "Epoch 8/50\n",
      "60000/60000 [==============================] - 165s 3ms/step - loss: 0.4287 - acc: 0.8485\n",
      "Epoch 9/50\n",
      "60000/60000 [==============================] - 169s 3ms/step - loss: 0.4175 - acc: 0.8507\n",
      "Epoch 10/50\n",
      "60000/60000 [==============================] - 174s 3ms/step - loss: 0.4057 - acc: 0.8555\n",
      "Epoch 11/50\n",
      "60000/60000 [==============================] - 165s 3ms/step - loss: 0.3965 - acc: 0.8584\n",
      "Epoch 12/50\n",
      "60000/60000 [==============================] - 167s 3ms/step - loss: 0.3837 - acc: 0.8618\n",
      "Epoch 13/50\n",
      "60000/60000 [==============================] - 169s 3ms/step - loss: 0.3768 - acc: 0.8642\n",
      "Epoch 14/50\n",
      "60000/60000 [==============================] - 168s 3ms/step - loss: 0.3683 - acc: 0.8684\n",
      "Epoch 15/50\n",
      "60000/60000 [==============================] - 158s 3ms/step - loss: 0.3599 - acc: 0.8714\n",
      "Epoch 16/50\n",
      "60000/60000 [==============================] - 156s 3ms/step - loss: 0.3531 - acc: 0.8720\n",
      "Epoch 17/50\n",
      "60000/60000 [==============================] - 156s 3ms/step - loss: 0.3452 - acc: 0.8753\n",
      "Epoch 18/50\n",
      "60000/60000 [==============================] - 156s 3ms/step - loss: 0.3396 - acc: 0.8777\n",
      "Epoch 19/50\n",
      "60000/60000 [==============================] - 160s 3ms/step - loss: 0.3342 - acc: 0.8790\n",
      "Epoch 20/50\n",
      "60000/60000 [==============================] - 155s 3ms/step - loss: 0.3269 - acc: 0.8820\n",
      "Epoch 21/50\n",
      "60000/60000 [==============================] - 156s 3ms/step - loss: 0.3208 - acc: 0.8834\n",
      "Epoch 22/50\n",
      "60000/60000 [==============================] - 161s 3ms/step - loss: 0.3150 - acc: 0.8858\n",
      "Epoch 23/50\n",
      "60000/60000 [==============================] - 163s 3ms/step - loss: 0.3109 - acc: 0.8879\n",
      "Epoch 24/50\n",
      "60000/60000 [==============================] - 158s 3ms/step - loss: 0.3043 - acc: 0.8900\n",
      "Epoch 25/50\n",
      "60000/60000 [==============================] - 156s 3ms/step - loss: 0.2994 - acc: 0.8915\n",
      "Epoch 26/50\n",
      "60000/60000 [==============================] - 166s 3ms/step - loss: 0.2939 - acc: 0.8931\n",
      "Epoch 27/50\n",
      "60000/60000 [==============================] - 161s 3ms/step - loss: 0.2896 - acc: 0.8952\n",
      "Epoch 28/50\n",
      "60000/60000 [==============================] - 163s 3ms/step - loss: 0.2856 - acc: 0.8966\n",
      "Epoch 29/50\n",
      "60000/60000 [==============================] - 161s 3ms/step - loss: 0.2841 - acc: 0.8968\n",
      "Epoch 30/50\n",
      "60000/60000 [==============================] - 162s 3ms/step - loss: 0.2775 - acc: 0.9001\n",
      "Epoch 31/50\n",
      "60000/60000 [==============================] - 164s 3ms/step - loss: 0.2730 - acc: 0.9013\n",
      "Epoch 32/50\n",
      "60000/60000 [==============================] - 267s 4ms/step - loss: 0.2709 - acc: 0.9021\n",
      "Epoch 33/50\n",
      "60000/60000 [==============================] - 167s 3ms/step - loss: 0.2668 - acc: 0.9024\n",
      "Epoch 34/50\n",
      "60000/60000 [==============================] - 179s 3ms/step - loss: 0.2627 - acc: 0.9046\n",
      "Epoch 35/50\n",
      "60000/60000 [==============================] - 174s 3ms/step - loss: 0.2611 - acc: 0.9053\n",
      "Epoch 36/50\n",
      "60000/60000 [==============================] - 173s 3ms/step - loss: 0.2563 - acc: 0.9069\n",
      "Epoch 37/50\n",
      "60000/60000 [==============================] - 170s 3ms/step - loss: 0.2543 - acc: 0.9074\n",
      "Epoch 38/50\n",
      "60000/60000 [==============================] - 172s 3ms/step - loss: 0.2505 - acc: 0.9091\n",
      "Epoch 39/50\n",
      "60000/60000 [==============================] - 174s 3ms/step - loss: 0.2468 - acc: 0.9096\n",
      "Epoch 40/50\n",
      "60000/60000 [==============================] - 169s 3ms/step - loss: 0.2455 - acc: 0.9114\n",
      "Epoch 41/50\n",
      "60000/60000 [==============================] - 168s 3ms/step - loss: 0.2418 - acc: 0.9118\n",
      "Epoch 42/50\n",
      "60000/60000 [==============================] - 162s 3ms/step - loss: 0.2379 - acc: 0.9129\n",
      "Epoch 43/50\n",
      "60000/60000 [==============================] - 175s 3ms/step - loss: 0.2354 - acc: 0.9139\n",
      "Epoch 44/50\n",
      "60000/60000 [==============================] - 167s 3ms/step - loss: 0.2326 - acc: 0.9154\n",
      "Epoch 45/50\n",
      "60000/60000 [==============================] - 166s 3ms/step - loss: 0.2313 - acc: 0.9152\n",
      "Epoch 46/50\n",
      "60000/60000 [==============================] - 160s 3ms/step - loss: 0.2272 - acc: 0.9175\n",
      "Epoch 47/50\n",
      "60000/60000 [==============================] - 165s 3ms/step - loss: 0.2260 - acc: 0.9185\n",
      "Epoch 48/50\n",
      "60000/60000 [==============================] - 170s 3ms/step - loss: 0.2217 - acc: 0.9189\n",
      "Epoch 49/50\n",
      "60000/60000 [==============================] - 176s 3ms/step - loss: 0.2199 - acc: 0.9194\n",
      "Epoch 50/50\n",
      "60000/60000 [==============================] - 164s 3ms/step - loss: 0.2170 - acc: 0.9213\n"
     ]
    }
   ],
   "source": [
    "history_anothercnn = model3.fit(images_train1,one_hot_labels_train, epochs=50, batch_size=200 , callbacks=[cbt_train_anothercnn])\n"
   ]
  },
  {
   "cell_type": "code",
   "execution_count": null,
   "metadata": {},
   "outputs": [
    {
     "name": "stdout",
     "output_type": "stream",
     "text": [
      "Epoch 1/50\n",
      "10000/10000 [==============================] - 41s 4ms/step - loss: 0.2840 - acc: 0.8989\n",
      "Epoch 2/50\n",
      "10000/10000 [==============================] - 33s 3ms/step - loss: 0.2732 - acc: 0.9021\n",
      "Epoch 3/50\n",
      "10000/10000 [==============================] - 38s 4ms/step - loss: 0.2641 - acc: 0.9064\n",
      "Epoch 4/50\n",
      "10000/10000 [==============================] - 30s 3ms/step - loss: 0.2579 - acc: 0.9074\n",
      "Epoch 5/50\n",
      " 5200/10000 [==============>...............] - ETA: 13s - loss: 0.2620 - acc: 0.9058"
     ]
    }
   ],
   "source": [
    "history_anothercnn_test = model3.fit(images_test1,one_hot_labels_test, epochs=50, batch_size=200 , callbacks=[cbt_train_anothercnn])\n"
   ]
  },
  {
   "cell_type": "code",
   "execution_count": null,
   "metadata": {},
   "outputs": [],
   "source": []
  },
  {
   "cell_type": "code",
   "execution_count": null,
   "metadata": {},
   "outputs": [],
   "source": [
    "import matplotlib.pyplot as plt\n",
    "\n",
    "plt.plot(history_test_cnn.history['loss'])\n",
    "\n",
    "plt.title('Epochs vs Losses ')\n",
    "plt.ylabel('losses')\n",
    "plt.xlabel('Epoch')\n",
    "\n",
    "plt.show()"
   ]
  },
  {
   "cell_type": "code",
   "execution_count": null,
   "metadata": {},
   "outputs": [],
   "source": [
    "plt.plot(history_test_cnn.history['loss'])\n",
    "plt.plot(cbt_train_cnn.times)\n",
    "plt.title('Epochs and Time vs Losses ')\n",
    "plt.ylabel('losses and Time')\n",
    "plt.xlabel('Epoch')\n",
    "\n",
    "plt.show()"
   ]
  },
  {
   "cell_type": "code",
   "execution_count": null,
   "metadata": {},
   "outputs": [],
   "source": []
  },
  {
   "cell_type": "code",
   "execution_count": null,
   "metadata": {},
   "outputs": [],
   "source": [
    "import matplotlib.pyplot as plt\n",
    "\n",
    "plt.plot(history_test_cnn.history['loss'])\n",
    "\n",
    "plt.title('Epochs vs Losses ')\n",
    "plt.ylabel('losses')\n",
    "plt.xlabel('Epoch')\n",
    "\n",
    "plt.show()"
   ]
  },
  {
   "cell_type": "code",
   "execution_count": null,
   "metadata": {},
   "outputs": [],
   "source": [
    "plt.plot(history_test_cnn.history['loss'])\n",
    "plt.plot(cbt_train_cnn.times)\n",
    "plt.title('Epochs and Time vs Losses ')\n",
    "plt.ylabel('losses and Time')\n",
    "plt.xlabel('Epoch')\n",
    "\n",
    "plt.show()"
   ]
  }
 ],
 "metadata": {
  "kernelspec": {
   "display_name": "Python 3",
   "language": "python",
   "name": "python3"
  },
  "language_info": {
   "codemirror_mode": {
    "name": "ipython",
    "version": 3
   },
   "file_extension": ".py",
   "mimetype": "text/x-python",
   "name": "python",
   "nbconvert_exporter": "python",
   "pygments_lexer": "ipython3",
   "version": "3.7.3"
  }
 },
 "nbformat": 4,
 "nbformat_minor": 2
}
